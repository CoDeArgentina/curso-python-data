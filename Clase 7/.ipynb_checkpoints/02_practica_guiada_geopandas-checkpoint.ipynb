{
 "cells": [
  {
   "cell_type": "markdown",
   "metadata": {},
   "source": [
    "4) NOTEBOOK 2: VISUALIZACIONES (REDATAM CENSO)+EJERCICIO Ids RADIOS. AXIS + CHOROPLETAS + FOLIUM + LEAFLET + CONTEXTLY, etc."
   ]
  },
  {
   "cell_type": "markdown",
   "metadata": {},
   "source": [
    "PRACTICA INDEPENDIENTE\n",
    "\n",
    "1) EJERCICIO PROPERATI + CONTEXTO URBANO USANDO DATA CENSO "
   ]
  },
  {
   "cell_type": "code",
   "execution_count": null,
   "metadata": {},
   "outputs": [],
   "source": []
  }
 ],
 "metadata": {
  "kernelspec": {
   "display_name": "python-data",
   "language": "python",
   "name": "python-data"
  },
  "language_info": {
   "codemirror_mode": {
    "name": "ipython",
    "version": 3
   },
   "file_extension": ".py",
   "mimetype": "text/x-python",
   "name": "python",
   "nbconvert_exporter": "python",
   "pygments_lexer": "ipython3",
   "version": "3.6.9"
  }
 },
 "nbformat": 4,
 "nbformat_minor": 2
}
