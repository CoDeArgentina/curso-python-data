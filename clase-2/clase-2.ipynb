{
 "cells": [
  {
   "cell_type": "markdown",
   "metadata": {},
   "source": [
    "# Clase 2: Pandas y estadística descriptiva"
   ]
  },
  {
   "cell_type": "code",
   "execution_count": 56,
   "metadata": {},
   "outputs": [],
   "source": [
    "import pandas as pd\n",
    "import numpy as np\n",
    "%matplotlib inline\n",
    "\n",
    "# cargamos un dataset del Ministerio de Justicia sobre patentamientos automotores\n",
    "df = pd.read_csv(\"http://datos.jus.gob.ar/dataset/1ab0cc03-ab9b-4520-975c-5757d87d1061/resource/4358c995-bb04-4ad9-be4a-a9076dc3e42c/download/estadistica-inscripciones-iniciales-automotores-2019-02.csv\")"
   ]
  },
  {
   "cell_type": "markdown",
   "metadata": {},
   "source": [
    "## Groupby"
   ]
  },
  {
   "cell_type": "markdown",
   "metadata": {},
   "source": [
    "https://pandas.pydata.org/pandas-docs/stable/reference/api/pandas.DataFrame.groupby.html"
   ]
  },
  {
   "cell_type": "code",
   "execution_count": 2,
   "metadata": {},
   "outputs": [
    {
     "data": {
      "text/html": [
       "<div>\n",
       "<style scoped>\n",
       "    .dataframe tbody tr th:only-of-type {\n",
       "        vertical-align: middle;\n",
       "    }\n",
       "\n",
       "    .dataframe tbody tr th {\n",
       "        vertical-align: top;\n",
       "    }\n",
       "\n",
       "    .dataframe thead th {\n",
       "        text-align: right;\n",
       "    }\n",
       "</style>\n",
       "<table border=\"1\" class=\"dataframe\">\n",
       "  <thead>\n",
       "    <tr style=\"text-align: right;\">\n",
       "      <th></th>\n",
       "      <th>tipo_vehiculo</th>\n",
       "      <th>anio_inscripcion_inicial</th>\n",
       "      <th>mes_inscripcion_inicial</th>\n",
       "      <th>provincia_inscripcion_inicial</th>\n",
       "      <th>letra_provincia_inscripcion_inicial</th>\n",
       "      <th>cantidad_inscripciones_iniciales</th>\n",
       "      <th>provincia_id</th>\n",
       "    </tr>\n",
       "  </thead>\n",
       "  <tbody>\n",
       "    <tr>\n",
       "      <td>5803</td>\n",
       "      <td>Automotores</td>\n",
       "      <td>2020</td>\n",
       "      <td>2</td>\n",
       "      <td>Santa Cruz</td>\n",
       "      <td>Z</td>\n",
       "      <td>290</td>\n",
       "      <td>78</td>\n",
       "    </tr>\n",
       "    <tr>\n",
       "      <td>5804</td>\n",
       "      <td>Automotores</td>\n",
       "      <td>2020</td>\n",
       "      <td>2</td>\n",
       "      <td>Santa Fe</td>\n",
       "      <td>S</td>\n",
       "      <td>2503</td>\n",
       "      <td>82</td>\n",
       "    </tr>\n",
       "    <tr>\n",
       "      <td>5805</td>\n",
       "      <td>Automotores</td>\n",
       "      <td>2020</td>\n",
       "      <td>2</td>\n",
       "      <td>Santiago del Estero</td>\n",
       "      <td>G</td>\n",
       "      <td>261</td>\n",
       "      <td>86</td>\n",
       "    </tr>\n",
       "    <tr>\n",
       "      <td>5806</td>\n",
       "      <td>Automotores</td>\n",
       "      <td>2020</td>\n",
       "      <td>2</td>\n",
       "      <td>Tierra del Fuego</td>\n",
       "      <td>V</td>\n",
       "      <td>256</td>\n",
       "      <td>94</td>\n",
       "    </tr>\n",
       "    <tr>\n",
       "      <td>5807</td>\n",
       "      <td>Automotores</td>\n",
       "      <td>2020</td>\n",
       "      <td>2</td>\n",
       "      <td>Tucumán</td>\n",
       "      <td>T</td>\n",
       "      <td>792</td>\n",
       "      <td>90</td>\n",
       "    </tr>\n",
       "  </tbody>\n",
       "</table>\n",
       "</div>"
      ],
      "text/plain": [
       "     tipo_vehiculo  anio_inscripcion_inicial  mes_inscripcion_inicial  \\\n",
       "5803   Automotores                      2020                        2   \n",
       "5804   Automotores                      2020                        2   \n",
       "5805   Automotores                      2020                        2   \n",
       "5806   Automotores                      2020                        2   \n",
       "5807   Automotores                      2020                        2   \n",
       "\n",
       "     provincia_inscripcion_inicial letra_provincia_inscripcion_inicial  \\\n",
       "5803                    Santa Cruz                                   Z   \n",
       "5804                      Santa Fe                                   S   \n",
       "5805           Santiago del Estero                                   G   \n",
       "5806              Tierra del Fuego                                   V   \n",
       "5807                       Tucumán                                   T   \n",
       "\n",
       "      cantidad_inscripciones_iniciales  provincia_id  \n",
       "5803                               290            78  \n",
       "5804                              2503            82  \n",
       "5805                               261            86  \n",
       "5806                               256            94  \n",
       "5807                               792            90  "
      ]
     },
     "execution_count": 2,
     "metadata": {},
     "output_type": "execute_result"
    }
   ],
   "source": [
    "df.tail()"
   ]
  },
  {
   "cell_type": "code",
   "execution_count": 3,
   "metadata": {},
   "outputs": [
    {
     "data": {
      "text/html": [
       "<div>\n",
       "<style scoped>\n",
       "    .dataframe tbody tr th:only-of-type {\n",
       "        vertical-align: middle;\n",
       "    }\n",
       "\n",
       "    .dataframe tbody tr th {\n",
       "        vertical-align: top;\n",
       "    }\n",
       "\n",
       "    .dataframe thead th {\n",
       "        text-align: right;\n",
       "    }\n",
       "</style>\n",
       "<table border=\"1\" class=\"dataframe\">\n",
       "  <thead>\n",
       "    <tr style=\"text-align: right;\">\n",
       "      <th></th>\n",
       "      <th>tipo_vehiculo</th>\n",
       "      <th>mes_inscripcion_inicial</th>\n",
       "      <th>provincia_inscripcion_inicial</th>\n",
       "      <th>letra_provincia_inscripcion_inicial</th>\n",
       "      <th>cantidad_inscripciones_iniciales</th>\n",
       "      <th>provincia_id</th>\n",
       "    </tr>\n",
       "    <tr>\n",
       "      <th>anio_inscripcion_inicial</th>\n",
       "      <th></th>\n",
       "      <th></th>\n",
       "      <th></th>\n",
       "      <th></th>\n",
       "      <th></th>\n",
       "      <th></th>\n",
       "    </tr>\n",
       "  </thead>\n",
       "  <tbody>\n",
       "    <tr>\n",
       "      <td>2016</td>\n",
       "      <td>288</td>\n",
       "      <td>288</td>\n",
       "      <td>288</td>\n",
       "      <td>288</td>\n",
       "      <td>288</td>\n",
       "      <td>288</td>\n",
       "    </tr>\n",
       "    <tr>\n",
       "      <td>2017</td>\n",
       "      <td>288</td>\n",
       "      <td>288</td>\n",
       "      <td>288</td>\n",
       "      <td>288</td>\n",
       "      <td>288</td>\n",
       "      <td>288</td>\n",
       "    </tr>\n",
       "    <tr>\n",
       "      <td>2018</td>\n",
       "      <td>288</td>\n",
       "      <td>288</td>\n",
       "      <td>288</td>\n",
       "      <td>288</td>\n",
       "      <td>288</td>\n",
       "      <td>288</td>\n",
       "    </tr>\n",
       "    <tr>\n",
       "      <td>2019</td>\n",
       "      <td>288</td>\n",
       "      <td>288</td>\n",
       "      <td>288</td>\n",
       "      <td>288</td>\n",
       "      <td>288</td>\n",
       "      <td>288</td>\n",
       "    </tr>\n",
       "    <tr>\n",
       "      <td>2020</td>\n",
       "      <td>48</td>\n",
       "      <td>48</td>\n",
       "      <td>48</td>\n",
       "      <td>48</td>\n",
       "      <td>48</td>\n",
       "      <td>48</td>\n",
       "    </tr>\n",
       "  </tbody>\n",
       "</table>\n",
       "</div>"
      ],
      "text/plain": [
       "                          tipo_vehiculo  mes_inscripcion_inicial  \\\n",
       "anio_inscripcion_inicial                                           \n",
       "2016                                288                      288   \n",
       "2017                                288                      288   \n",
       "2018                                288                      288   \n",
       "2019                                288                      288   \n",
       "2020                                 48                       48   \n",
       "\n",
       "                          provincia_inscripcion_inicial  \\\n",
       "anio_inscripcion_inicial                                  \n",
       "2016                                                288   \n",
       "2017                                                288   \n",
       "2018                                                288   \n",
       "2019                                                288   \n",
       "2020                                                 48   \n",
       "\n",
       "                          letra_provincia_inscripcion_inicial  \\\n",
       "anio_inscripcion_inicial                                        \n",
       "2016                                                      288   \n",
       "2017                                                      288   \n",
       "2018                                                      288   \n",
       "2019                                                      288   \n",
       "2020                                                       48   \n",
       "\n",
       "                          cantidad_inscripciones_iniciales  provincia_id  \n",
       "anio_inscripcion_inicial                                                  \n",
       "2016                                                   288           288  \n",
       "2017                                                   288           288  \n",
       "2018                                                   288           288  \n",
       "2019                                                   288           288  \n",
       "2020                                                    48            48  "
      ]
     },
     "execution_count": 3,
     "metadata": {},
     "output_type": "execute_result"
    }
   ],
   "source": [
    "df.groupby(\"anio_inscripcion_inicial\").count().tail()"
   ]
  },
  {
   "cell_type": "code",
   "execution_count": 4,
   "metadata": {},
   "outputs": [
    {
     "data": {
      "text/html": [
       "<div>\n",
       "<style scoped>\n",
       "    .dataframe tbody tr th:only-of-type {\n",
       "        vertical-align: middle;\n",
       "    }\n",
       "\n",
       "    .dataframe tbody tr th {\n",
       "        vertical-align: top;\n",
       "    }\n",
       "\n",
       "    .dataframe thead th {\n",
       "        text-align: right;\n",
       "    }\n",
       "</style>\n",
       "<table border=\"1\" class=\"dataframe\">\n",
       "  <thead>\n",
       "    <tr style=\"text-align: right;\">\n",
       "      <th></th>\n",
       "      <th></th>\n",
       "      <th>tipo_vehiculo</th>\n",
       "      <th>provincia_inscripcion_inicial</th>\n",
       "      <th>letra_provincia_inscripcion_inicial</th>\n",
       "      <th>cantidad_inscripciones_iniciales</th>\n",
       "      <th>provincia_id</th>\n",
       "    </tr>\n",
       "    <tr>\n",
       "      <th>anio_inscripcion_inicial</th>\n",
       "      <th>mes_inscripcion_inicial</th>\n",
       "      <th></th>\n",
       "      <th></th>\n",
       "      <th></th>\n",
       "      <th></th>\n",
       "      <th></th>\n",
       "    </tr>\n",
       "  </thead>\n",
       "  <tbody>\n",
       "    <tr>\n",
       "      <td rowspan=\"3\" valign=\"top\">2019</td>\n",
       "      <td>10</td>\n",
       "      <td>24</td>\n",
       "      <td>24</td>\n",
       "      <td>24</td>\n",
       "      <td>24</td>\n",
       "      <td>24</td>\n",
       "    </tr>\n",
       "    <tr>\n",
       "      <td>11</td>\n",
       "      <td>24</td>\n",
       "      <td>24</td>\n",
       "      <td>24</td>\n",
       "      <td>24</td>\n",
       "      <td>24</td>\n",
       "    </tr>\n",
       "    <tr>\n",
       "      <td>12</td>\n",
       "      <td>24</td>\n",
       "      <td>24</td>\n",
       "      <td>24</td>\n",
       "      <td>24</td>\n",
       "      <td>24</td>\n",
       "    </tr>\n",
       "    <tr>\n",
       "      <td rowspan=\"2\" valign=\"top\">2020</td>\n",
       "      <td>1</td>\n",
       "      <td>24</td>\n",
       "      <td>24</td>\n",
       "      <td>24</td>\n",
       "      <td>24</td>\n",
       "      <td>24</td>\n",
       "    </tr>\n",
       "    <tr>\n",
       "      <td>2</td>\n",
       "      <td>24</td>\n",
       "      <td>24</td>\n",
       "      <td>24</td>\n",
       "      <td>24</td>\n",
       "      <td>24</td>\n",
       "    </tr>\n",
       "  </tbody>\n",
       "</table>\n",
       "</div>"
      ],
      "text/plain": [
       "                                                  tipo_vehiculo  \\\n",
       "anio_inscripcion_inicial mes_inscripcion_inicial                  \n",
       "2019                     10                                  24   \n",
       "                         11                                  24   \n",
       "                         12                                  24   \n",
       "2020                     1                                   24   \n",
       "                         2                                   24   \n",
       "\n",
       "                                                  provincia_inscripcion_inicial  \\\n",
       "anio_inscripcion_inicial mes_inscripcion_inicial                                  \n",
       "2019                     10                                                  24   \n",
       "                         11                                                  24   \n",
       "                         12                                                  24   \n",
       "2020                     1                                                   24   \n",
       "                         2                                                   24   \n",
       "\n",
       "                                                  letra_provincia_inscripcion_inicial  \\\n",
       "anio_inscripcion_inicial mes_inscripcion_inicial                                        \n",
       "2019                     10                                                        24   \n",
       "                         11                                                        24   \n",
       "                         12                                                        24   \n",
       "2020                     1                                                         24   \n",
       "                         2                                                         24   \n",
       "\n",
       "                                                  cantidad_inscripciones_iniciales  \\\n",
       "anio_inscripcion_inicial mes_inscripcion_inicial                                     \n",
       "2019                     10                                                     24   \n",
       "                         11                                                     24   \n",
       "                         12                                                     24   \n",
       "2020                     1                                                      24   \n",
       "                         2                                                      24   \n",
       "\n",
       "                                                  provincia_id  \n",
       "anio_inscripcion_inicial mes_inscripcion_inicial                \n",
       "2019                     10                                 24  \n",
       "                         11                                 24  \n",
       "                         12                                 24  \n",
       "2020                     1                                  24  \n",
       "                         2                                  24  "
      ]
     },
     "execution_count": 4,
     "metadata": {},
     "output_type": "execute_result"
    }
   ],
   "source": [
    "df.groupby([\"anio_inscripcion_inicial\", \"mes_inscripcion_inicial\"]).count().tail()"
   ]
  },
  {
   "cell_type": "code",
   "execution_count": 5,
   "metadata": {},
   "outputs": [
    {
     "data": {
      "text/html": [
       "<div>\n",
       "<style scoped>\n",
       "    .dataframe tbody tr th:only-of-type {\n",
       "        vertical-align: middle;\n",
       "    }\n",
       "\n",
       "    .dataframe tbody tr th {\n",
       "        vertical-align: top;\n",
       "    }\n",
       "\n",
       "    .dataframe thead th {\n",
       "        text-align: right;\n",
       "    }\n",
       "</style>\n",
       "<table border=\"1\" class=\"dataframe\">\n",
       "  <thead>\n",
       "    <tr style=\"text-align: right;\">\n",
       "      <th></th>\n",
       "      <th></th>\n",
       "      <th>cantidad_inscripciones_iniciales</th>\n",
       "      <th>provincia_id</th>\n",
       "    </tr>\n",
       "    <tr>\n",
       "      <th>anio_inscripcion_inicial</th>\n",
       "      <th>mes_inscripcion_inicial</th>\n",
       "      <th></th>\n",
       "      <th></th>\n",
       "    </tr>\n",
       "  </thead>\n",
       "  <tbody>\n",
       "    <tr>\n",
       "      <td rowspan=\"3\" valign=\"top\">2019</td>\n",
       "      <td>10</td>\n",
       "      <td>32781</td>\n",
       "      <td>1152</td>\n",
       "    </tr>\n",
       "    <tr>\n",
       "      <td>11</td>\n",
       "      <td>26004</td>\n",
       "      <td>1152</td>\n",
       "    </tr>\n",
       "    <tr>\n",
       "      <td>12</td>\n",
       "      <td>21470</td>\n",
       "      <td>1152</td>\n",
       "    </tr>\n",
       "    <tr>\n",
       "      <td rowspan=\"2\" valign=\"top\">2020</td>\n",
       "      <td>1</td>\n",
       "      <td>45170</td>\n",
       "      <td>1152</td>\n",
       "    </tr>\n",
       "    <tr>\n",
       "      <td>2</td>\n",
       "      <td>27731</td>\n",
       "      <td>1152</td>\n",
       "    </tr>\n",
       "  </tbody>\n",
       "</table>\n",
       "</div>"
      ],
      "text/plain": [
       "                                                  cantidad_inscripciones_iniciales  \\\n",
       "anio_inscripcion_inicial mes_inscripcion_inicial                                     \n",
       "2019                     10                                                  32781   \n",
       "                         11                                                  26004   \n",
       "                         12                                                  21470   \n",
       "2020                     1                                                   45170   \n",
       "                         2                                                   27731   \n",
       "\n",
       "                                                  provincia_id  \n",
       "anio_inscripcion_inicial mes_inscripcion_inicial                \n",
       "2019                     10                               1152  \n",
       "                         11                               1152  \n",
       "                         12                               1152  \n",
       "2020                     1                                1152  \n",
       "                         2                                1152  "
      ]
     },
     "execution_count": 5,
     "metadata": {},
     "output_type": "execute_result"
    }
   ],
   "source": [
    "df.groupby([\"anio_inscripcion_inicial\", \"mes_inscripcion_inicial\"]).sum().tail()"
   ]
  },
  {
   "cell_type": "markdown",
   "metadata": {},
   "source": [
    "**Ejercicio:** hacer una tabla que muestre la cantidad de patentamientos por provincia que se hicieron en el 2019."
   ]
  },
  {
   "cell_type": "code",
   "execution_count": null,
   "metadata": {},
   "outputs": [],
   "source": []
  },
  {
   "cell_type": "markdown",
   "metadata": {},
   "source": [
    "## Agg"
   ]
  },
  {
   "cell_type": "markdown",
   "metadata": {},
   "source": [
    "https://pandas.pydata.org/pandas-docs/stable/reference/api/pandas.DataFrame.agg.html"
   ]
  },
  {
   "cell_type": "code",
   "execution_count": 6,
   "metadata": {},
   "outputs": [],
   "source": [
    "df_expo = pd.read_csv(\"https://infra.datos.gob.ar/catalog/sspm/dataset/75/distribution/75.3/download/exportaciones-mensual.csv\")"
   ]
  },
  {
   "cell_type": "code",
   "execution_count": 7,
   "metadata": {},
   "outputs": [
    {
     "data": {
      "text/html": [
       "<div>\n",
       "<style scoped>\n",
       "    .dataframe tbody tr th:only-of-type {\n",
       "        vertical-align: middle;\n",
       "    }\n",
       "\n",
       "    .dataframe tbody tr th {\n",
       "        vertical-align: top;\n",
       "    }\n",
       "\n",
       "    .dataframe thead th {\n",
       "        text-align: right;\n",
       "    }\n",
       "</style>\n",
       "<table border=\"1\" class=\"dataframe\">\n",
       "  <thead>\n",
       "    <tr style=\"text-align: right;\">\n",
       "      <th></th>\n",
       "      <th>indice_tiempo</th>\n",
       "      <th>ica_exportaciones_total_general</th>\n",
       "      <th>ica_exportaciones_total_productos_primarios</th>\n",
       "      <th>ica_exportaciones_animales_vivos</th>\n",
       "      <th>ica_exportaciones_pescados_mariscos</th>\n",
       "      <th>ica_exportaciones_miel</th>\n",
       "      <th>ica_exportaciones_hortalizas_legumbres_sin_elaborar</th>\n",
       "      <th>ica_exportaciones_frutas_frescas</th>\n",
       "      <th>ica_exportaciones_cereales</th>\n",
       "      <th>ica_exportaciones_semillas_frutos_oleaginosos</th>\n",
       "      <th>...</th>\n",
       "      <th>ica_maquinas_aparatos_materiales_electricos</th>\n",
       "      <th>ica_material_transporte_terrestre</th>\n",
       "      <th>ica_vehiculos_navegacion_aerea_maritima_fluvial</th>\n",
       "      <th>ica_resto_moi</th>\n",
       "      <th>ica_total_combustibles_energia</th>\n",
       "      <th>ica_petroleo_crudo</th>\n",
       "      <th>ica_carburantes_grasas_aceites_lubricantes</th>\n",
       "      <th>gas_petroleo_otros_hidrocarburos</th>\n",
       "      <th>ica_energia_electrica</th>\n",
       "      <th>ica_resto_combustibles</th>\n",
       "    </tr>\n",
       "  </thead>\n",
       "  <tbody>\n",
       "    <tr>\n",
       "      <td>0</td>\n",
       "      <td>1992-01-01</td>\n",
       "      <td>725.798174</td>\n",
       "      <td>133.367679</td>\n",
       "      <td>0.505194</td>\n",
       "      <td>22.047199</td>\n",
       "      <td>3.809077</td>\n",
       "      <td>21.876559</td>\n",
       "      <td>14.239892</td>\n",
       "      <td>45.547102</td>\n",
       "      <td>19.538213</td>\n",
       "      <td>...</td>\n",
       "      <td>37.359934</td>\n",
       "      <td>16.862867</td>\n",
       "      <td>5.240765</td>\n",
       "      <td>6.726885</td>\n",
       "      <td>68.845548</td>\n",
       "      <td>29.251779</td>\n",
       "      <td>31.893742</td>\n",
       "      <td>4.144817</td>\n",
       "      <td>0.000000</td>\n",
       "      <td>3.555210</td>\n",
       "    </tr>\n",
       "    <tr>\n",
       "      <td>1</td>\n",
       "      <td>1992-02-01</td>\n",
       "      <td>851.896974</td>\n",
       "      <td>188.034116</td>\n",
       "      <td>0.870830</td>\n",
       "      <td>19.032655</td>\n",
       "      <td>5.756942</td>\n",
       "      <td>18.808046</td>\n",
       "      <td>37.583460</td>\n",
       "      <td>80.632051</td>\n",
       "      <td>11.634396</td>\n",
       "      <td>...</td>\n",
       "      <td>31.566474</td>\n",
       "      <td>18.060001</td>\n",
       "      <td>0.202600</td>\n",
       "      <td>5.706589</td>\n",
       "      <td>62.501529</td>\n",
       "      <td>22.121224</td>\n",
       "      <td>31.252193</td>\n",
       "      <td>1.799820</td>\n",
       "      <td>0.000000</td>\n",
       "      <td>7.328292</td>\n",
       "    </tr>\n",
       "    <tr>\n",
       "      <td>2</td>\n",
       "      <td>1992-03-01</td>\n",
       "      <td>984.648674</td>\n",
       "      <td>320.984466</td>\n",
       "      <td>0.697096</td>\n",
       "      <td>34.969729</td>\n",
       "      <td>6.570723</td>\n",
       "      <td>13.023373</td>\n",
       "      <td>46.865398</td>\n",
       "      <td>164.865627</td>\n",
       "      <td>21.563881</td>\n",
       "      <td>...</td>\n",
       "      <td>38.411961</td>\n",
       "      <td>16.693698</td>\n",
       "      <td>2.205804</td>\n",
       "      <td>4.902551</td>\n",
       "      <td>58.970218</td>\n",
       "      <td>34.108656</td>\n",
       "      <td>18.757213</td>\n",
       "      <td>2.873046</td>\n",
       "      <td>0.378265</td>\n",
       "      <td>2.853038</td>\n",
       "    </tr>\n",
       "    <tr>\n",
       "      <td>3</td>\n",
       "      <td>1992-04-01</td>\n",
       "      <td>998.051464</td>\n",
       "      <td>375.242075</td>\n",
       "      <td>0.705392</td>\n",
       "      <td>27.584509</td>\n",
       "      <td>6.373365</td>\n",
       "      <td>11.503317</td>\n",
       "      <td>42.140210</td>\n",
       "      <td>212.201256</td>\n",
       "      <td>31.478944</td>\n",
       "      <td>...</td>\n",
       "      <td>37.384285</td>\n",
       "      <td>20.170104</td>\n",
       "      <td>1.055706</td>\n",
       "      <td>5.881576</td>\n",
       "      <td>69.160250</td>\n",
       "      <td>36.180682</td>\n",
       "      <td>24.598652</td>\n",
       "      <td>4.133319</td>\n",
       "      <td>0.119467</td>\n",
       "      <td>4.128130</td>\n",
       "    </tr>\n",
       "    <tr>\n",
       "      <td>4</td>\n",
       "      <td>1992-05-01</td>\n",
       "      <td>1137.679956</td>\n",
       "      <td>474.440656</td>\n",
       "      <td>1.225952</td>\n",
       "      <td>27.739611</td>\n",
       "      <td>5.694092</td>\n",
       "      <td>9.677077</td>\n",
       "      <td>41.781644</td>\n",
       "      <td>194.670354</td>\n",
       "      <td>154.031489</td>\n",
       "      <td>...</td>\n",
       "      <td>35.174290</td>\n",
       "      <td>27.930373</td>\n",
       "      <td>2.536310</td>\n",
       "      <td>6.495665</td>\n",
       "      <td>60.379001</td>\n",
       "      <td>20.438015</td>\n",
       "      <td>32.574864</td>\n",
       "      <td>1.738228</td>\n",
       "      <td>0.116372</td>\n",
       "      <td>5.511522</td>\n",
       "    </tr>\n",
       "    <tr>\n",
       "      <td>...</td>\n",
       "      <td>...</td>\n",
       "      <td>...</td>\n",
       "      <td>...</td>\n",
       "      <td>...</td>\n",
       "      <td>...</td>\n",
       "      <td>...</td>\n",
       "      <td>...</td>\n",
       "      <td>...</td>\n",
       "      <td>...</td>\n",
       "      <td>...</td>\n",
       "      <td>...</td>\n",
       "      <td>...</td>\n",
       "      <td>...</td>\n",
       "      <td>...</td>\n",
       "      <td>...</td>\n",
       "      <td>...</td>\n",
       "      <td>...</td>\n",
       "      <td>...</td>\n",
       "      <td>...</td>\n",
       "      <td>...</td>\n",
       "      <td>...</td>\n",
       "    </tr>\n",
       "    <tr>\n",
       "      <td>331</td>\n",
       "      <td>2019-08-01</td>\n",
       "      <td>5568.000000</td>\n",
       "      <td>1505.000000</td>\n",
       "      <td>2.000000</td>\n",
       "      <td>182.000000</td>\n",
       "      <td>13.000000</td>\n",
       "      <td>52.000000</td>\n",
       "      <td>55.000000</td>\n",
       "      <td>711.000000</td>\n",
       "      <td>412.000000</td>\n",
       "      <td>...</td>\n",
       "      <td>123.000000</td>\n",
       "      <td>561.000000</td>\n",
       "      <td>84.000000</td>\n",
       "      <td>48.000000</td>\n",
       "      <td>288.000000</td>\n",
       "      <td>72.000000</td>\n",
       "      <td>210.000000</td>\n",
       "      <td>4.000000</td>\n",
       "      <td>21.000000</td>\n",
       "      <td>0.000000</td>\n",
       "    </tr>\n",
       "    <tr>\n",
       "      <td>332</td>\n",
       "      <td>2019-09-01</td>\n",
       "      <td>5746.000000</td>\n",
       "      <td>1605.000000</td>\n",
       "      <td>2.000000</td>\n",
       "      <td>121.000000</td>\n",
       "      <td>13.000000</td>\n",
       "      <td>59.000000</td>\n",
       "      <td>36.000000</td>\n",
       "      <td>667.000000</td>\n",
       "      <td>638.000000</td>\n",
       "      <td>...</td>\n",
       "      <td>130.000000</td>\n",
       "      <td>601.000000</td>\n",
       "      <td>9.000000</td>\n",
       "      <td>62.000000</td>\n",
       "      <td>305.000000</td>\n",
       "      <td>134.000000</td>\n",
       "      <td>142.000000</td>\n",
       "      <td>3.000000</td>\n",
       "      <td>22.000000</td>\n",
       "      <td>0.000000</td>\n",
       "    </tr>\n",
       "    <tr>\n",
       "      <td>333</td>\n",
       "      <td>2019-10-01</td>\n",
       "      <td>5889.000000</td>\n",
       "      <td>1612.000000</td>\n",
       "      <td>1.000000</td>\n",
       "      <td>158.000000</td>\n",
       "      <td>13.000000</td>\n",
       "      <td>65.000000</td>\n",
       "      <td>41.000000</td>\n",
       "      <td>623.000000</td>\n",
       "      <td>624.000000</td>\n",
       "      <td>...</td>\n",
       "      <td>120.000000</td>\n",
       "      <td>602.000000</td>\n",
       "      <td>6.000000</td>\n",
       "      <td>24.000000</td>\n",
       "      <td>377.000000</td>\n",
       "      <td>154.000000</td>\n",
       "      <td>162.000000</td>\n",
       "      <td>6.000000</td>\n",
       "      <td>40.000000</td>\n",
       "      <td>0.000000</td>\n",
       "    </tr>\n",
       "    <tr>\n",
       "      <td>334</td>\n",
       "      <td>2019-11-01</td>\n",
       "      <td>5893.000000</td>\n",
       "      <td>1568.000000</td>\n",
       "      <td>2.000000</td>\n",
       "      <td>132.000000</td>\n",
       "      <td>8.000000</td>\n",
       "      <td>59.000000</td>\n",
       "      <td>44.000000</td>\n",
       "      <td>666.000000</td>\n",
       "      <td>572.000000</td>\n",
       "      <td>...</td>\n",
       "      <td>103.000000</td>\n",
       "      <td>530.000000</td>\n",
       "      <td>1.000000</td>\n",
       "      <td>442.000000</td>\n",
       "      <td>352.000000</td>\n",
       "      <td>114.000000</td>\n",
       "      <td>176.000000</td>\n",
       "      <td>3.000000</td>\n",
       "      <td>52.000000</td>\n",
       "      <td>0.000000</td>\n",
       "    </tr>\n",
       "    <tr>\n",
       "      <td>335</td>\n",
       "      <td>2019-12-01</td>\n",
       "      <td>5374.000000</td>\n",
       "      <td>1391.000000</td>\n",
       "      <td>2.000000</td>\n",
       "      <td>124.000000</td>\n",
       "      <td>10.000000</td>\n",
       "      <td>87.000000</td>\n",
       "      <td>31.000000</td>\n",
       "      <td>821.000000</td>\n",
       "      <td>229.000000</td>\n",
       "      <td>...</td>\n",
       "      <td>110.000000</td>\n",
       "      <td>532.000000</td>\n",
       "      <td>12.000000</td>\n",
       "      <td>70.000000</td>\n",
       "      <td>374.000000</td>\n",
       "      <td>98.000000</td>\n",
       "      <td>210.000000</td>\n",
       "      <td>4.000000</td>\n",
       "      <td>58.000000</td>\n",
       "      <td>0.000000</td>\n",
       "    </tr>\n",
       "  </tbody>\n",
       "</table>\n",
       "<p>336 rows × 53 columns</p>\n",
       "</div>"
      ],
      "text/plain": [
       "    indice_tiempo  ica_exportaciones_total_general  \\\n",
       "0      1992-01-01                       725.798174   \n",
       "1      1992-02-01                       851.896974   \n",
       "2      1992-03-01                       984.648674   \n",
       "3      1992-04-01                       998.051464   \n",
       "4      1992-05-01                      1137.679956   \n",
       "..            ...                              ...   \n",
       "331    2019-08-01                      5568.000000   \n",
       "332    2019-09-01                      5746.000000   \n",
       "333    2019-10-01                      5889.000000   \n",
       "334    2019-11-01                      5893.000000   \n",
       "335    2019-12-01                      5374.000000   \n",
       "\n",
       "     ica_exportaciones_total_productos_primarios  \\\n",
       "0                                     133.367679   \n",
       "1                                     188.034116   \n",
       "2                                     320.984466   \n",
       "3                                     375.242075   \n",
       "4                                     474.440656   \n",
       "..                                           ...   \n",
       "331                                  1505.000000   \n",
       "332                                  1605.000000   \n",
       "333                                  1612.000000   \n",
       "334                                  1568.000000   \n",
       "335                                  1391.000000   \n",
       "\n",
       "     ica_exportaciones_animales_vivos  ica_exportaciones_pescados_mariscos  \\\n",
       "0                            0.505194                            22.047199   \n",
       "1                            0.870830                            19.032655   \n",
       "2                            0.697096                            34.969729   \n",
       "3                            0.705392                            27.584509   \n",
       "4                            1.225952                            27.739611   \n",
       "..                                ...                                  ...   \n",
       "331                          2.000000                           182.000000   \n",
       "332                          2.000000                           121.000000   \n",
       "333                          1.000000                           158.000000   \n",
       "334                          2.000000                           132.000000   \n",
       "335                          2.000000                           124.000000   \n",
       "\n",
       "     ica_exportaciones_miel  \\\n",
       "0                  3.809077   \n",
       "1                  5.756942   \n",
       "2                  6.570723   \n",
       "3                  6.373365   \n",
       "4                  5.694092   \n",
       "..                      ...   \n",
       "331               13.000000   \n",
       "332               13.000000   \n",
       "333               13.000000   \n",
       "334                8.000000   \n",
       "335               10.000000   \n",
       "\n",
       "     ica_exportaciones_hortalizas_legumbres_sin_elaborar  \\\n",
       "0                                            21.876559     \n",
       "1                                            18.808046     \n",
       "2                                            13.023373     \n",
       "3                                            11.503317     \n",
       "4                                             9.677077     \n",
       "..                                                 ...     \n",
       "331                                          52.000000     \n",
       "332                                          59.000000     \n",
       "333                                          65.000000     \n",
       "334                                          59.000000     \n",
       "335                                          87.000000     \n",
       "\n",
       "     ica_exportaciones_frutas_frescas  ica_exportaciones_cereales  \\\n",
       "0                           14.239892                   45.547102   \n",
       "1                           37.583460                   80.632051   \n",
       "2                           46.865398                  164.865627   \n",
       "3                           42.140210                  212.201256   \n",
       "4                           41.781644                  194.670354   \n",
       "..                                ...                         ...   \n",
       "331                         55.000000                  711.000000   \n",
       "332                         36.000000                  667.000000   \n",
       "333                         41.000000                  623.000000   \n",
       "334                         44.000000                  666.000000   \n",
       "335                         31.000000                  821.000000   \n",
       "\n",
       "     ica_exportaciones_semillas_frutos_oleaginosos  ...  \\\n",
       "0                                        19.538213  ...   \n",
       "1                                        11.634396  ...   \n",
       "2                                        21.563881  ...   \n",
       "3                                        31.478944  ...   \n",
       "4                                       154.031489  ...   \n",
       "..                                             ...  ...   \n",
       "331                                     412.000000  ...   \n",
       "332                                     638.000000  ...   \n",
       "333                                     624.000000  ...   \n",
       "334                                     572.000000  ...   \n",
       "335                                     229.000000  ...   \n",
       "\n",
       "     ica_maquinas_aparatos_materiales_electricos  \\\n",
       "0                                      37.359934   \n",
       "1                                      31.566474   \n",
       "2                                      38.411961   \n",
       "3                                      37.384285   \n",
       "4                                      35.174290   \n",
       "..                                           ...   \n",
       "331                                   123.000000   \n",
       "332                                   130.000000   \n",
       "333                                   120.000000   \n",
       "334                                   103.000000   \n",
       "335                                   110.000000   \n",
       "\n",
       "     ica_material_transporte_terrestre  \\\n",
       "0                            16.862867   \n",
       "1                            18.060001   \n",
       "2                            16.693698   \n",
       "3                            20.170104   \n",
       "4                            27.930373   \n",
       "..                                 ...   \n",
       "331                         561.000000   \n",
       "332                         601.000000   \n",
       "333                         602.000000   \n",
       "334                         530.000000   \n",
       "335                         532.000000   \n",
       "\n",
       "     ica_vehiculos_navegacion_aerea_maritima_fluvial  ica_resto_moi  \\\n",
       "0                                           5.240765       6.726885   \n",
       "1                                           0.202600       5.706589   \n",
       "2                                           2.205804       4.902551   \n",
       "3                                           1.055706       5.881576   \n",
       "4                                           2.536310       6.495665   \n",
       "..                                               ...            ...   \n",
       "331                                        84.000000      48.000000   \n",
       "332                                         9.000000      62.000000   \n",
       "333                                         6.000000      24.000000   \n",
       "334                                         1.000000     442.000000   \n",
       "335                                        12.000000      70.000000   \n",
       "\n",
       "     ica_total_combustibles_energia  ica_petroleo_crudo  \\\n",
       "0                         68.845548           29.251779   \n",
       "1                         62.501529           22.121224   \n",
       "2                         58.970218           34.108656   \n",
       "3                         69.160250           36.180682   \n",
       "4                         60.379001           20.438015   \n",
       "..                              ...                 ...   \n",
       "331                      288.000000           72.000000   \n",
       "332                      305.000000          134.000000   \n",
       "333                      377.000000          154.000000   \n",
       "334                      352.000000          114.000000   \n",
       "335                      374.000000           98.000000   \n",
       "\n",
       "     ica_carburantes_grasas_aceites_lubricantes  \\\n",
       "0                                     31.893742   \n",
       "1                                     31.252193   \n",
       "2                                     18.757213   \n",
       "3                                     24.598652   \n",
       "4                                     32.574864   \n",
       "..                                          ...   \n",
       "331                                  210.000000   \n",
       "332                                  142.000000   \n",
       "333                                  162.000000   \n",
       "334                                  176.000000   \n",
       "335                                  210.000000   \n",
       "\n",
       "     gas_petroleo_otros_hidrocarburos  ica_energia_electrica  \\\n",
       "0                            4.144817               0.000000   \n",
       "1                            1.799820               0.000000   \n",
       "2                            2.873046               0.378265   \n",
       "3                            4.133319               0.119467   \n",
       "4                            1.738228               0.116372   \n",
       "..                                ...                    ...   \n",
       "331                          4.000000              21.000000   \n",
       "332                          3.000000              22.000000   \n",
       "333                          6.000000              40.000000   \n",
       "334                          3.000000              52.000000   \n",
       "335                          4.000000              58.000000   \n",
       "\n",
       "     ica_resto_combustibles  \n",
       "0                  3.555210  \n",
       "1                  7.328292  \n",
       "2                  2.853038  \n",
       "3                  4.128130  \n",
       "4                  5.511522  \n",
       "..                      ...  \n",
       "331                0.000000  \n",
       "332                0.000000  \n",
       "333                0.000000  \n",
       "334                0.000000  \n",
       "335                0.000000  \n",
       "\n",
       "[336 rows x 53 columns]"
      ]
     },
     "execution_count": 7,
     "metadata": {},
     "output_type": "execute_result"
    }
   ],
   "source": [
    "df_expo"
   ]
  },
  {
   "cell_type": "code",
   "execution_count": 8,
   "metadata": {},
   "outputs": [],
   "source": [
    "# buscar dato de expo donde tenga sentido min, max, avg y suma total"
   ]
  },
  {
   "cell_type": "code",
   "execution_count": 9,
   "metadata": {},
   "outputs": [
    {
     "data": {
      "text/html": [
       "<div>\n",
       "<style scoped>\n",
       "    .dataframe tbody tr th:only-of-type {\n",
       "        vertical-align: middle;\n",
       "    }\n",
       "\n",
       "    .dataframe tbody tr th {\n",
       "        vertical-align: top;\n",
       "    }\n",
       "\n",
       "    .dataframe thead th {\n",
       "        text-align: right;\n",
       "    }\n",
       "</style>\n",
       "<table border=\"1\" class=\"dataframe\">\n",
       "  <thead>\n",
       "    <tr style=\"text-align: right;\">\n",
       "      <th></th>\n",
       "      <th>indice_tiempo</th>\n",
       "      <th>ica_exportaciones_total_general</th>\n",
       "      <th>ica_exportaciones_total_productos_primarios</th>\n",
       "      <th>ica_exportaciones_animales_vivos</th>\n",
       "      <th>ica_exportaciones_pescados_mariscos</th>\n",
       "      <th>ica_exportaciones_miel</th>\n",
       "      <th>ica_exportaciones_hortalizas_legumbres_sin_elaborar</th>\n",
       "      <th>ica_exportaciones_frutas_frescas</th>\n",
       "      <th>ica_exportaciones_cereales</th>\n",
       "      <th>ica_exportaciones_semillas_frutos_oleaginosos</th>\n",
       "      <th>...</th>\n",
       "      <th>ica_maquinas_aparatos_materiales_electricos</th>\n",
       "      <th>ica_material_transporte_terrestre</th>\n",
       "      <th>ica_vehiculos_navegacion_aerea_maritima_fluvial</th>\n",
       "      <th>ica_resto_moi</th>\n",
       "      <th>ica_total_combustibles_energia</th>\n",
       "      <th>ica_petroleo_crudo</th>\n",
       "      <th>ica_carburantes_grasas_aceites_lubricantes</th>\n",
       "      <th>gas_petroleo_otros_hidrocarburos</th>\n",
       "      <th>ica_energia_electrica</th>\n",
       "      <th>ica_resto_combustibles</th>\n",
       "    </tr>\n",
       "  </thead>\n",
       "  <tbody>\n",
       "    <tr>\n",
       "      <td>min</td>\n",
       "      <td>1992-01-01</td>\n",
       "      <td>725.798174</td>\n",
       "      <td>113.595346</td>\n",
       "      <td>0.163440</td>\n",
       "      <td>12.923521</td>\n",
       "      <td>1.843517</td>\n",
       "      <td>8.746488</td>\n",
       "      <td>2.608865</td>\n",
       "      <td>40.277424</td>\n",
       "      <td>3.951102</td>\n",
       "      <td>...</td>\n",
       "      <td>31.566474</td>\n",
       "      <td>16.693698</td>\n",
       "      <td>0.000000</td>\n",
       "      <td>4.902551</td>\n",
       "      <td>55.564557</td>\n",
       "      <td>0.000000</td>\n",
       "      <td>18.757213</td>\n",
       "      <td>1.738228</td>\n",
       "      <td>0.000000</td>\n",
       "      <td>0.000000</td>\n",
       "    </tr>\n",
       "    <tr>\n",
       "      <td>max</td>\n",
       "      <td>2019-12-01</td>\n",
       "      <td>8393.245179</td>\n",
       "      <td>2394.737357</td>\n",
       "      <td>11.506153</td>\n",
       "      <td>247.000000</td>\n",
       "      <td>35.993472</td>\n",
       "      <td>94.000000</td>\n",
       "      <td>222.538666</td>\n",
       "      <td>1134.368300</td>\n",
       "      <td>1007.752438</td>\n",
       "      <td>...</td>\n",
       "      <td>245.377528</td>\n",
       "      <td>1070.891053</td>\n",
       "      <td>336.294135</td>\n",
       "      <td>442.000000</td>\n",
       "      <td>892.452656</td>\n",
       "      <td>582.907199</td>\n",
       "      <td>494.265647</td>\n",
       "      <td>169.533431</td>\n",
       "      <td>149.000000</td>\n",
       "      <td>20.231647</td>\n",
       "    </tr>\n",
       "    <tr>\n",
       "      <td>mean</td>\n",
       "      <td>NaN</td>\n",
       "      <td>3718.690165</td>\n",
       "      <td>847.083552</td>\n",
       "      <td>2.234221</td>\n",
       "      <td>69.356585</td>\n",
       "      <td>11.272792</td>\n",
       "      <td>33.706499</td>\n",
       "      <td>57.462308</td>\n",
       "      <td>359.951199</td>\n",
       "      <td>209.595710</td>\n",
       "      <td>...</td>\n",
       "      <td>118.870975</td>\n",
       "      <td>362.609407</td>\n",
       "      <td>26.279546</td>\n",
       "      <td>31.889337</td>\n",
       "      <td>374.866038</td>\n",
       "      <td>147.625761</td>\n",
       "      <td>161.972257</td>\n",
       "      <td>49.533161</td>\n",
       "      <td>9.197031</td>\n",
       "      <td>6.958203</td>\n",
       "    </tr>\n",
       "  </tbody>\n",
       "</table>\n",
       "<p>3 rows × 53 columns</p>\n",
       "</div>"
      ],
      "text/plain": [
       "     indice_tiempo  ica_exportaciones_total_general  \\\n",
       "min     1992-01-01                       725.798174   \n",
       "max     2019-12-01                      8393.245179   \n",
       "mean           NaN                      3718.690165   \n",
       "\n",
       "      ica_exportaciones_total_productos_primarios  \\\n",
       "min                                    113.595346   \n",
       "max                                   2394.737357   \n",
       "mean                                   847.083552   \n",
       "\n",
       "      ica_exportaciones_animales_vivos  ica_exportaciones_pescados_mariscos  \\\n",
       "min                           0.163440                            12.923521   \n",
       "max                          11.506153                           247.000000   \n",
       "mean                          2.234221                            69.356585   \n",
       "\n",
       "      ica_exportaciones_miel  \\\n",
       "min                 1.843517   \n",
       "max                35.993472   \n",
       "mean               11.272792   \n",
       "\n",
       "      ica_exportaciones_hortalizas_legumbres_sin_elaborar  \\\n",
       "min                                            8.746488     \n",
       "max                                           94.000000     \n",
       "mean                                          33.706499     \n",
       "\n",
       "      ica_exportaciones_frutas_frescas  ica_exportaciones_cereales  \\\n",
       "min                           2.608865                   40.277424   \n",
       "max                         222.538666                 1134.368300   \n",
       "mean                         57.462308                  359.951199   \n",
       "\n",
       "      ica_exportaciones_semillas_frutos_oleaginosos  ...  \\\n",
       "min                                        3.951102  ...   \n",
       "max                                     1007.752438  ...   \n",
       "mean                                     209.595710  ...   \n",
       "\n",
       "      ica_maquinas_aparatos_materiales_electricos  \\\n",
       "min                                     31.566474   \n",
       "max                                    245.377528   \n",
       "mean                                   118.870975   \n",
       "\n",
       "      ica_material_transporte_terrestre  \\\n",
       "min                           16.693698   \n",
       "max                         1070.891053   \n",
       "mean                         362.609407   \n",
       "\n",
       "      ica_vehiculos_navegacion_aerea_maritima_fluvial  ica_resto_moi  \\\n",
       "min                                          0.000000       4.902551   \n",
       "max                                        336.294135     442.000000   \n",
       "mean                                        26.279546      31.889337   \n",
       "\n",
       "      ica_total_combustibles_energia  ica_petroleo_crudo  \\\n",
       "min                        55.564557            0.000000   \n",
       "max                       892.452656          582.907199   \n",
       "mean                      374.866038          147.625761   \n",
       "\n",
       "      ica_carburantes_grasas_aceites_lubricantes  \\\n",
       "min                                    18.757213   \n",
       "max                                   494.265647   \n",
       "mean                                  161.972257   \n",
       "\n",
       "      gas_petroleo_otros_hidrocarburos  ica_energia_electrica  \\\n",
       "min                           1.738228               0.000000   \n",
       "max                         169.533431             149.000000   \n",
       "mean                         49.533161               9.197031   \n",
       "\n",
       "      ica_resto_combustibles  \n",
       "min                 0.000000  \n",
       "max                20.231647  \n",
       "mean                6.958203  \n",
       "\n",
       "[3 rows x 53 columns]"
      ]
     },
     "execution_count": 9,
     "metadata": {},
     "output_type": "execute_result"
    }
   ],
   "source": [
    "df_expo.agg([\"min\", \"mean\", \"max\"])"
   ]
  },
  {
   "cell_type": "code",
   "execution_count": 10,
   "metadata": {},
   "outputs": [
    {
     "data": {
      "text/plain": [
       "0       68.845548\n",
       "1       62.501529\n",
       "2       58.970218\n",
       "3       69.160250\n",
       "4       60.379001\n",
       "          ...    \n",
       "331    307.000000\n",
       "332    301.000000\n",
       "333    362.000000\n",
       "334    345.000000\n",
       "335    370.000000\n",
       "Length: 336, dtype: float64"
      ]
     },
     "execution_count": 10,
     "metadata": {},
     "output_type": "execute_result"
    }
   ],
   "source": [
    "df_expo[[\"ica_resto_combustibles\", \"ica_energia_electrica\", \n",
    "         \"gas_petroleo_otros_hidrocarburos\", \"ica_carburantes_grasas_aceites_lubricantes\",\n",
    "        \"ica_petroleo_crudo\"]\n",
    "       ].agg(\"sum\", axis=1)"
   ]
  },
  {
   "cell_type": "markdown",
   "metadata": {},
   "source": [
    "**Ejercicio:** agregar las series de productos agropecuarios creando una serie de exportaciones agropecuarias."
   ]
  },
  {
   "cell_type": "code",
   "execution_count": null,
   "metadata": {},
   "outputs": [],
   "source": []
  },
  {
   "cell_type": "markdown",
   "metadata": {},
   "source": [
    "## Pivot table"
   ]
  },
  {
   "cell_type": "markdown",
   "metadata": {},
   "source": [
    "https://pandas.pydata.org/pandas-docs/stable/reference/api/pandas.pivot_table.html"
   ]
  },
  {
   "cell_type": "code",
   "execution_count": 11,
   "metadata": {},
   "outputs": [
    {
     "data": {
      "text/html": [
       "<div>\n",
       "<style scoped>\n",
       "    .dataframe tbody tr th:only-of-type {\n",
       "        vertical-align: middle;\n",
       "    }\n",
       "\n",
       "    .dataframe tbody tr th {\n",
       "        vertical-align: top;\n",
       "    }\n",
       "\n",
       "    .dataframe thead tr th {\n",
       "        text-align: left;\n",
       "    }\n",
       "\n",
       "    .dataframe thead tr:last-of-type th {\n",
       "        text-align: right;\n",
       "    }\n",
       "</style>\n",
       "<table border=\"1\" class=\"dataframe\">\n",
       "  <thead>\n",
       "    <tr>\n",
       "      <th></th>\n",
       "      <th colspan=\"12\" halign=\"left\">cantidad_inscripciones_iniciales</th>\n",
       "    </tr>\n",
       "    <tr>\n",
       "      <th>mes_inscripcion_inicial</th>\n",
       "      <th>1</th>\n",
       "      <th>2</th>\n",
       "      <th>3</th>\n",
       "      <th>4</th>\n",
       "      <th>5</th>\n",
       "      <th>6</th>\n",
       "      <th>7</th>\n",
       "      <th>8</th>\n",
       "      <th>9</th>\n",
       "      <th>10</th>\n",
       "      <th>11</th>\n",
       "      <th>12</th>\n",
       "    </tr>\n",
       "    <tr>\n",
       "      <th>anio_inscripcion_inicial</th>\n",
       "      <th></th>\n",
       "      <th></th>\n",
       "      <th></th>\n",
       "      <th></th>\n",
       "      <th></th>\n",
       "      <th></th>\n",
       "      <th></th>\n",
       "      <th></th>\n",
       "      <th></th>\n",
       "      <th></th>\n",
       "      <th></th>\n",
       "      <th></th>\n",
       "    </tr>\n",
       "  </thead>\n",
       "  <tbody>\n",
       "    <tr>\n",
       "      <td>2000</td>\n",
       "      <td>46926.0</td>\n",
       "      <td>32798.0</td>\n",
       "      <td>32504.0</td>\n",
       "      <td>26641.0</td>\n",
       "      <td>27580.0</td>\n",
       "      <td>28428.0</td>\n",
       "      <td>27415.0</td>\n",
       "      <td>28868.0</td>\n",
       "      <td>28157.0</td>\n",
       "      <td>33588.0</td>\n",
       "      <td>23625.0</td>\n",
       "      <td>16281.0</td>\n",
       "    </tr>\n",
       "    <tr>\n",
       "      <td>2001</td>\n",
       "      <td>36451.0</td>\n",
       "      <td>16107.0</td>\n",
       "      <td>17594.0</td>\n",
       "      <td>17129.0</td>\n",
       "      <td>17606.0</td>\n",
       "      <td>15780.0</td>\n",
       "      <td>18749.0</td>\n",
       "      <td>17566.0</td>\n",
       "      <td>15180.0</td>\n",
       "      <td>14763.0</td>\n",
       "      <td>12547.0</td>\n",
       "      <td>7181.0</td>\n",
       "    </tr>\n",
       "    <tr>\n",
       "      <td>2002</td>\n",
       "      <td>16382.0</td>\n",
       "      <td>8812.0</td>\n",
       "      <td>13497.0</td>\n",
       "      <td>13641.0</td>\n",
       "      <td>10255.0</td>\n",
       "      <td>4412.0</td>\n",
       "      <td>5597.0</td>\n",
       "      <td>5993.0</td>\n",
       "      <td>5898.0</td>\n",
       "      <td>6226.0</td>\n",
       "      <td>5095.0</td>\n",
       "      <td>5423.0</td>\n",
       "    </tr>\n",
       "    <tr>\n",
       "      <td>2003</td>\n",
       "      <td>14503.0</td>\n",
       "      <td>6749.0</td>\n",
       "      <td>7503.0</td>\n",
       "      <td>9271.0</td>\n",
       "      <td>10842.0</td>\n",
       "      <td>11380.0</td>\n",
       "      <td>13759.0</td>\n",
       "      <td>13429.0</td>\n",
       "      <td>15537.0</td>\n",
       "      <td>17340.0</td>\n",
       "      <td>13859.0</td>\n",
       "      <td>11875.0</td>\n",
       "    </tr>\n",
       "    <tr>\n",
       "      <td>2004</td>\n",
       "      <td>32743.0</td>\n",
       "      <td>19075.0</td>\n",
       "      <td>23929.0</td>\n",
       "      <td>22806.0</td>\n",
       "      <td>23503.0</td>\n",
       "      <td>24901.0</td>\n",
       "      <td>28193.0</td>\n",
       "      <td>28226.0</td>\n",
       "      <td>28411.0</td>\n",
       "      <td>24790.0</td>\n",
       "      <td>23267.0</td>\n",
       "      <td>12635.0</td>\n",
       "    </tr>\n",
       "    <tr>\n",
       "      <td>2005</td>\n",
       "      <td>53721.0</td>\n",
       "      <td>27129.0</td>\n",
       "      <td>31050.0</td>\n",
       "      <td>33139.0</td>\n",
       "      <td>33596.0</td>\n",
       "      <td>32899.0</td>\n",
       "      <td>34385.0</td>\n",
       "      <td>32009.0</td>\n",
       "      <td>36248.0</td>\n",
       "      <td>30759.0</td>\n",
       "      <td>29545.0</td>\n",
       "      <td>14754.0</td>\n",
       "    </tr>\n",
       "    <tr>\n",
       "      <td>2006</td>\n",
       "      <td>66276.0</td>\n",
       "      <td>32754.0</td>\n",
       "      <td>40837.0</td>\n",
       "      <td>34671.0</td>\n",
       "      <td>38660.0</td>\n",
       "      <td>36832.0</td>\n",
       "      <td>37141.0</td>\n",
       "      <td>39587.0</td>\n",
       "      <td>39809.0</td>\n",
       "      <td>36157.0</td>\n",
       "      <td>33403.0</td>\n",
       "      <td>16455.0</td>\n",
       "    </tr>\n",
       "    <tr>\n",
       "      <td>2007</td>\n",
       "      <td>82813.0</td>\n",
       "      <td>39156.0</td>\n",
       "      <td>47511.0</td>\n",
       "      <td>42184.0</td>\n",
       "      <td>47516.0</td>\n",
       "      <td>42677.0</td>\n",
       "      <td>50448.0</td>\n",
       "      <td>54708.0</td>\n",
       "      <td>49467.0</td>\n",
       "      <td>49749.0</td>\n",
       "      <td>41823.0</td>\n",
       "      <td>24789.0</td>\n",
       "    </tr>\n",
       "    <tr>\n",
       "      <td>2008</td>\n",
       "      <td>86214.0</td>\n",
       "      <td>46811.0</td>\n",
       "      <td>44559.0</td>\n",
       "      <td>56732.0</td>\n",
       "      <td>57664.0</td>\n",
       "      <td>49576.0</td>\n",
       "      <td>58769.0</td>\n",
       "      <td>51707.0</td>\n",
       "      <td>56348.0</td>\n",
       "      <td>51197.0</td>\n",
       "      <td>35645.0</td>\n",
       "      <td>20034.0</td>\n",
       "    </tr>\n",
       "    <tr>\n",
       "      <td>2009</td>\n",
       "      <td>74053.0</td>\n",
       "      <td>39196.0</td>\n",
       "      <td>41507.0</td>\n",
       "      <td>40653.0</td>\n",
       "      <td>40257.0</td>\n",
       "      <td>44167.0</td>\n",
       "      <td>46733.0</td>\n",
       "      <td>42564.0</td>\n",
       "      <td>46274.0</td>\n",
       "      <td>40255.0</td>\n",
       "      <td>37653.0</td>\n",
       "      <td>23487.0</td>\n",
       "    </tr>\n",
       "    <tr>\n",
       "      <td>2010</td>\n",
       "      <td>79051.0</td>\n",
       "      <td>44906.0</td>\n",
       "      <td>57489.0</td>\n",
       "      <td>51281.0</td>\n",
       "      <td>50941.0</td>\n",
       "      <td>55061.0</td>\n",
       "      <td>57693.0</td>\n",
       "      <td>57623.0</td>\n",
       "      <td>64235.0</td>\n",
       "      <td>53970.0</td>\n",
       "      <td>54348.0</td>\n",
       "      <td>38954.0</td>\n",
       "    </tr>\n",
       "    <tr>\n",
       "      <td>2011</td>\n",
       "      <td>104339.0</td>\n",
       "      <td>60398.0</td>\n",
       "      <td>67829.0</td>\n",
       "      <td>65595.0</td>\n",
       "      <td>68218.0</td>\n",
       "      <td>78720.0</td>\n",
       "      <td>73223.0</td>\n",
       "      <td>80246.0</td>\n",
       "      <td>84583.0</td>\n",
       "      <td>72659.0</td>\n",
       "      <td>65996.0</td>\n",
       "      <td>39014.0</td>\n",
       "    </tr>\n",
       "    <tr>\n",
       "      <td>2012</td>\n",
       "      <td>113121.0</td>\n",
       "      <td>58424.0</td>\n",
       "      <td>82570.0</td>\n",
       "      <td>61103.0</td>\n",
       "      <td>76728.0</td>\n",
       "      <td>69983.0</td>\n",
       "      <td>74401.0</td>\n",
       "      <td>76771.0</td>\n",
       "      <td>64776.0</td>\n",
       "      <td>70572.0</td>\n",
       "      <td>58877.0</td>\n",
       "      <td>38236.0</td>\n",
       "    </tr>\n",
       "    <tr>\n",
       "      <td>2013</td>\n",
       "      <td>110669.0</td>\n",
       "      <td>64157.0</td>\n",
       "      <td>78094.0</td>\n",
       "      <td>82663.0</td>\n",
       "      <td>92886.0</td>\n",
       "      <td>75159.0</td>\n",
       "      <td>88457.0</td>\n",
       "      <td>82769.0</td>\n",
       "      <td>85420.0</td>\n",
       "      <td>89789.0</td>\n",
       "      <td>62310.0</td>\n",
       "      <td>51225.0</td>\n",
       "    </tr>\n",
       "    <tr>\n",
       "      <td>2014</td>\n",
       "      <td>109360.0</td>\n",
       "      <td>58888.0</td>\n",
       "      <td>51847.0</td>\n",
       "      <td>53759.0</td>\n",
       "      <td>56761.0</td>\n",
       "      <td>53458.0</td>\n",
       "      <td>61617.0</td>\n",
       "      <td>58502.0</td>\n",
       "      <td>59571.0</td>\n",
       "      <td>54456.0</td>\n",
       "      <td>39975.0</td>\n",
       "      <td>30286.0</td>\n",
       "    </tr>\n",
       "    <tr>\n",
       "      <td>2015</td>\n",
       "      <td>67248.0</td>\n",
       "      <td>43839.0</td>\n",
       "      <td>50326.0</td>\n",
       "      <td>53325.0</td>\n",
       "      <td>48992.0</td>\n",
       "      <td>58931.0</td>\n",
       "      <td>61964.0</td>\n",
       "      <td>58995.0</td>\n",
       "      <td>67991.0</td>\n",
       "      <td>60906.0</td>\n",
       "      <td>52239.0</td>\n",
       "      <td>32405.0</td>\n",
       "    </tr>\n",
       "    <tr>\n",
       "      <td>2016</td>\n",
       "      <td>57948.0</td>\n",
       "      <td>48144.0</td>\n",
       "      <td>56428.0</td>\n",
       "      <td>61101.0</td>\n",
       "      <td>60874.0</td>\n",
       "      <td>54628.0</td>\n",
       "      <td>63768.0</td>\n",
       "      <td>73049.0</td>\n",
       "      <td>71201.0</td>\n",
       "      <td>63713.0</td>\n",
       "      <td>59952.0</td>\n",
       "      <td>40640.0</td>\n",
       "    </tr>\n",
       "    <tr>\n",
       "      <td>2017</td>\n",
       "      <td>95362.0</td>\n",
       "      <td>59074.0</td>\n",
       "      <td>78376.0</td>\n",
       "      <td>65099.0</td>\n",
       "      <td>77743.0</td>\n",
       "      <td>78498.0</td>\n",
       "      <td>80957.0</td>\n",
       "      <td>87362.0</td>\n",
       "      <td>80396.0</td>\n",
       "      <td>78717.0</td>\n",
       "      <td>73350.0</td>\n",
       "      <td>47799.0</td>\n",
       "    </tr>\n",
       "    <tr>\n",
       "      <td>2018</td>\n",
       "      <td>120788.0</td>\n",
       "      <td>69798.0</td>\n",
       "      <td>85615.0</td>\n",
       "      <td>77786.0</td>\n",
       "      <td>83396.0</td>\n",
       "      <td>64792.0</td>\n",
       "      <td>67349.0</td>\n",
       "      <td>65641.0</td>\n",
       "      <td>52885.0</td>\n",
       "      <td>48737.0</td>\n",
       "      <td>39902.0</td>\n",
       "      <td>28454.0</td>\n",
       "    </tr>\n",
       "    <tr>\n",
       "      <td>2019</td>\n",
       "      <td>60351.0</td>\n",
       "      <td>40294.0</td>\n",
       "      <td>39282.0</td>\n",
       "      <td>37498.0</td>\n",
       "      <td>36959.0</td>\n",
       "      <td>36320.0</td>\n",
       "      <td>50055.0</td>\n",
       "      <td>44574.0</td>\n",
       "      <td>36296.0</td>\n",
       "      <td>32781.0</td>\n",
       "      <td>26004.0</td>\n",
       "      <td>21470.0</td>\n",
       "    </tr>\n",
       "    <tr>\n",
       "      <td>2020</td>\n",
       "      <td>45170.0</td>\n",
       "      <td>27731.0</td>\n",
       "      <td>NaN</td>\n",
       "      <td>NaN</td>\n",
       "      <td>NaN</td>\n",
       "      <td>NaN</td>\n",
       "      <td>NaN</td>\n",
       "      <td>NaN</td>\n",
       "      <td>NaN</td>\n",
       "      <td>NaN</td>\n",
       "      <td>NaN</td>\n",
       "      <td>NaN</td>\n",
       "    </tr>\n",
       "  </tbody>\n",
       "</table>\n",
       "</div>"
      ],
      "text/plain": [
       "                         cantidad_inscripciones_iniciales                    \\\n",
       "mes_inscripcion_inicial                                1        2        3    \n",
       "anio_inscripcion_inicial                                                      \n",
       "2000                                              46926.0  32798.0  32504.0   \n",
       "2001                                              36451.0  16107.0  17594.0   \n",
       "2002                                              16382.0   8812.0  13497.0   \n",
       "2003                                              14503.0   6749.0   7503.0   \n",
       "2004                                              32743.0  19075.0  23929.0   \n",
       "2005                                              53721.0  27129.0  31050.0   \n",
       "2006                                              66276.0  32754.0  40837.0   \n",
       "2007                                              82813.0  39156.0  47511.0   \n",
       "2008                                              86214.0  46811.0  44559.0   \n",
       "2009                                              74053.0  39196.0  41507.0   \n",
       "2010                                              79051.0  44906.0  57489.0   \n",
       "2011                                             104339.0  60398.0  67829.0   \n",
       "2012                                             113121.0  58424.0  82570.0   \n",
       "2013                                             110669.0  64157.0  78094.0   \n",
       "2014                                             109360.0  58888.0  51847.0   \n",
       "2015                                              67248.0  43839.0  50326.0   \n",
       "2016                                              57948.0  48144.0  56428.0   \n",
       "2017                                              95362.0  59074.0  78376.0   \n",
       "2018                                             120788.0  69798.0  85615.0   \n",
       "2019                                              60351.0  40294.0  39282.0   \n",
       "2020                                              45170.0  27731.0      NaN   \n",
       "\n",
       "                                                                       \\\n",
       "mes_inscripcion_inicial        4        5        6        7        8    \n",
       "anio_inscripcion_inicial                                                \n",
       "2000                      26641.0  27580.0  28428.0  27415.0  28868.0   \n",
       "2001                      17129.0  17606.0  15780.0  18749.0  17566.0   \n",
       "2002                      13641.0  10255.0   4412.0   5597.0   5993.0   \n",
       "2003                       9271.0  10842.0  11380.0  13759.0  13429.0   \n",
       "2004                      22806.0  23503.0  24901.0  28193.0  28226.0   \n",
       "2005                      33139.0  33596.0  32899.0  34385.0  32009.0   \n",
       "2006                      34671.0  38660.0  36832.0  37141.0  39587.0   \n",
       "2007                      42184.0  47516.0  42677.0  50448.0  54708.0   \n",
       "2008                      56732.0  57664.0  49576.0  58769.0  51707.0   \n",
       "2009                      40653.0  40257.0  44167.0  46733.0  42564.0   \n",
       "2010                      51281.0  50941.0  55061.0  57693.0  57623.0   \n",
       "2011                      65595.0  68218.0  78720.0  73223.0  80246.0   \n",
       "2012                      61103.0  76728.0  69983.0  74401.0  76771.0   \n",
       "2013                      82663.0  92886.0  75159.0  88457.0  82769.0   \n",
       "2014                      53759.0  56761.0  53458.0  61617.0  58502.0   \n",
       "2015                      53325.0  48992.0  58931.0  61964.0  58995.0   \n",
       "2016                      61101.0  60874.0  54628.0  63768.0  73049.0   \n",
       "2017                      65099.0  77743.0  78498.0  80957.0  87362.0   \n",
       "2018                      77786.0  83396.0  64792.0  67349.0  65641.0   \n",
       "2019                      37498.0  36959.0  36320.0  50055.0  44574.0   \n",
       "2020                          NaN      NaN      NaN      NaN      NaN   \n",
       "\n",
       "                                                              \n",
       "mes_inscripcion_inicial        9        10       11       12  \n",
       "anio_inscripcion_inicial                                      \n",
       "2000                      28157.0  33588.0  23625.0  16281.0  \n",
       "2001                      15180.0  14763.0  12547.0   7181.0  \n",
       "2002                       5898.0   6226.0   5095.0   5423.0  \n",
       "2003                      15537.0  17340.0  13859.0  11875.0  \n",
       "2004                      28411.0  24790.0  23267.0  12635.0  \n",
       "2005                      36248.0  30759.0  29545.0  14754.0  \n",
       "2006                      39809.0  36157.0  33403.0  16455.0  \n",
       "2007                      49467.0  49749.0  41823.0  24789.0  \n",
       "2008                      56348.0  51197.0  35645.0  20034.0  \n",
       "2009                      46274.0  40255.0  37653.0  23487.0  \n",
       "2010                      64235.0  53970.0  54348.0  38954.0  \n",
       "2011                      84583.0  72659.0  65996.0  39014.0  \n",
       "2012                      64776.0  70572.0  58877.0  38236.0  \n",
       "2013                      85420.0  89789.0  62310.0  51225.0  \n",
       "2014                      59571.0  54456.0  39975.0  30286.0  \n",
       "2015                      67991.0  60906.0  52239.0  32405.0  \n",
       "2016                      71201.0  63713.0  59952.0  40640.0  \n",
       "2017                      80396.0  78717.0  73350.0  47799.0  \n",
       "2018                      52885.0  48737.0  39902.0  28454.0  \n",
       "2019                      36296.0  32781.0  26004.0  21470.0  \n",
       "2020                          NaN      NaN      NaN      NaN  "
      ]
     },
     "execution_count": 11,
     "metadata": {},
     "output_type": "execute_result"
    }
   ],
   "source": [
    "df_pivot = df.pivot_table(\n",
    "    index=[\"anio_inscripcion_inicial\"],\n",
    "    columns=[\"mes_inscripcion_inicial\"],\n",
    "    values=[\"cantidad_inscripciones_iniciales\"],\n",
    "    aggfunc=sum\n",
    ")\n",
    "df_pivot"
   ]
  },
  {
   "cell_type": "markdown",
   "metadata": {},
   "source": [
    "**Ejercicio:** crear una tabla con la cantidad de patentamientos por año, discriminando por tipo de vehículo y provincia del patentamiento."
   ]
  },
  {
   "cell_type": "code",
   "execution_count": null,
   "metadata": {},
   "outputs": [],
   "source": []
  },
  {
   "cell_type": "markdown",
   "metadata": {},
   "source": [
    "## Melt"
   ]
  },
  {
   "cell_type": "markdown",
   "metadata": {},
   "source": [
    "https://pandas.pydata.org/pandas-docs/stable/reference/api/pandas.melt.html"
   ]
  },
  {
   "cell_type": "code",
   "execution_count": null,
   "metadata": {},
   "outputs": [],
   "source": []
  },
  {
   "cell_type": "markdown",
   "metadata": {},
   "source": [
    "## Media y mediana"
   ]
  },
  {
   "cell_type": "code",
   "execution_count": 43,
   "metadata": {},
   "outputs": [
    {
     "data": {
      "text/plain": [
       "anio_inscripcion_inicial  mes_inscripcion_inicial\n",
       "2000                      1                          46926\n",
       "                          2                          32798\n",
       "                          3                          32504\n",
       "                          4                          26641\n",
       "                          5                          27580\n",
       "                                                     ...  \n",
       "2019                      10                         32781\n",
       "                          11                         26004\n",
       "                          12                         21470\n",
       "2020                      1                          45170\n",
       "                          2                          27731\n",
       "Name: cantidad_inscripciones_iniciales, Length: 242, dtype: int64"
      ]
     },
     "execution_count": 43,
     "metadata": {},
     "output_type": "execute_result"
    }
   ],
   "source": [
    "serie_patentamientos = df.groupby(\n",
    "    [\"anio_inscripcion_inicial\", \"mes_inscripcion_inicial\"]\n",
    ").sum()[\n",
    "    \"cantidad_inscripciones_iniciales\"]\n",
    "serie_patentamientos"
   ]
  },
  {
   "cell_type": "code",
   "execution_count": 44,
   "metadata": {},
   "outputs": [
    {
     "data": {
      "text/plain": [
       "mean      46616.582645\n",
       "median    45722.000000\n",
       "Name: cantidad_inscripciones_iniciales, dtype: float64"
      ]
     },
     "execution_count": 44,
     "metadata": {},
     "output_type": "execute_result"
    }
   ],
   "source": [
    "serie_patentamientos.agg([\"mean\", \"median\"])"
   ]
  },
  {
   "cell_type": "code",
   "execution_count": 45,
   "metadata": {},
   "outputs": [
    {
     "data": {
      "text/plain": [
       "<matplotlib.lines.Line2D at 0x7f5f13922050>"
      ]
     },
     "execution_count": 45,
     "metadata": {},
     "output_type": "execute_result"
    },
    {
     "data": {
      "image/png": "[encoded data removed]",
      "text/plain": [
       "<Figure size 1080x360 with 1 Axes>"
      ]
     },
     "metadata": {
      "needs_background": "light"
     },
     "output_type": "display_data"
    }
   ],
   "source": [
    "ax = serie_patentamientos.hist(bins=20, figsize=(15,5))\n",
    "\n",
    "ax.axvline(serie_patentamientos.mean(), color='orange', linestyle='dashed', linewidth=5)\n",
    "ax.axvline(serie_patentamientos.median(), color='red', linestyle='dashed', linewidth=5)"
   ]
  },
  {
   "cell_type": "markdown",
   "metadata": {},
   "source": [
    "La media y la mediana son muy parecidas cuando la distribución se aproxima a la normal, pero se diferencian cuando una de las colas es sustancialmente más grande que la otra."
   ]
  },
  {
   "cell_type": "code",
   "execution_count": 46,
   "metadata": {},
   "outputs": [
    {
     "data": {
      "text/plain": [
       "anio_inscripcion_inicial  mes_inscripcion_inicial  provincia_id\n",
       "2000                      1                        2                8892\n",
       "                                                   6               16346\n",
       "                                                   10                361\n",
       "                                                   14               4535\n",
       "                                                   18                731\n",
       "                                                                   ...  \n",
       "2020                      2                        78                290\n",
       "                                                   82               2503\n",
       "                                                   86                261\n",
       "                                                   90                792\n",
       "                                                   94                256\n",
       "Name: cantidad_inscripciones_iniciales, Length: 5808, dtype: int64"
      ]
     },
     "execution_count": 46,
     "metadata": {},
     "output_type": "execute_result"
    }
   ],
   "source": [
    "serie_patentamientos = df.groupby(\n",
    "    [\"anio_inscripcion_inicial\", \"mes_inscripcion_inicial\", \"provincia_id\"]\n",
    ").sum()[\n",
    "    \"cantidad_inscripciones_iniciales\"]\n",
    "serie_patentamientos"
   ]
  },
  {
   "cell_type": "code",
   "execution_count": 47,
   "metadata": {},
   "outputs": [
    {
     "data": {
      "text/plain": [
       "mean      1942.35761\n",
       "median     736.00000\n",
       "Name: cantidad_inscripciones_iniciales, dtype: float64"
      ]
     },
     "execution_count": 47,
     "metadata": {},
     "output_type": "execute_result"
    }
   ],
   "source": [
    "serie_patentamientos.agg([\"mean\", \"median\"])"
   ]
  },
  {
   "cell_type": "code",
   "execution_count": 48,
   "metadata": {},
   "outputs": [
    {
     "data": {
      "text/plain": [
       "<matplotlib.lines.Line2D at 0x7f5f135a1150>"
      ]
     },
     "execution_count": 48,
     "metadata": {},
     "output_type": "execute_result"
    },
    {
     "data": {
      "image/png": "[encoded data removed]",
      "text/plain": [
       "<Figure size 1080x360 with 1 Axes>"
      ]
     },
     "metadata": {
      "needs_background": "light"
     },
     "output_type": "display_data"
    }
   ],
   "source": [
    "ax = serie_patentamientos.hist(bins=100, figsize=(15,5))\n",
    "\n",
    "ax.axvline(serie_patentamientos.mean(), color='orange', linestyle='dashed', linewidth=5)\n",
    "ax.axvline(serie_patentamientos.median(), color='red', linestyle='dashed', linewidth=5)"
   ]
  },
  {
   "cell_type": "markdown",
   "metadata": {},
   "source": [
    "**Ejercicio:** calcular y graficar la media y la mediana de la cantidad de patentamientos por provincia en el año 2017. ¿Cuál es la provincia más cerca de la cantidad de patentamientos promedio y cuál de la cantidad de patentamientos mediana"
   ]
  },
  {
   "cell_type": "code",
   "execution_count": null,
   "metadata": {},
   "outputs": [],
   "source": []
  },
  {
   "cell_type": "markdown",
   "metadata": {},
   "source": [
    "## Desvío estándar, varianza y desviación absoluta"
   ]
  },
  {
   "cell_type": "code",
   "execution_count": 51,
   "metadata": {},
   "outputs": [
    {
     "data": {
      "text/plain": [
       "<matplotlib.lines.Line2D at 0x7f5f137b2850>"
      ]
     },
     "execution_count": 51,
     "metadata": {},
     "output_type": "execute_result"
    },
    {
     "data": {
      "image/png": "[encoded data removed]",
      "text/plain": [
       "<Figure size 1080x360 with 1 Axes>"
      ]
     },
     "metadata": {
      "needs_background": "light"
     },
     "output_type": "display_data"
    }
   ],
   "source": [
    "ax = serie_patentamientos.hist(bins=100, figsize=(15,5))\n",
    "\n",
    "ax.axvline(serie_patentamientos.mean(), color='orange', linestyle='dashed', linewidth=5)\n",
    "ax.axvline(serie_patentamientos.median(), color='red', linestyle='dashed', linewidth=5)"
   ]
  },
  {
   "cell_type": "markdown",
   "metadata": {},
   "source": [
    "Desvío estándar"
   ]
  },
  {
   "cell_type": "code",
   "execution_count": 49,
   "metadata": {},
   "outputs": [
    {
     "data": {
      "text/plain": [
       "3753.5672422227863"
      ]
     },
     "execution_count": 49,
     "metadata": {},
     "output_type": "execute_result"
    }
   ],
   "source": [
    "serie_patentamientos.std()"
   ]
  },
  {
   "cell_type": "markdown",
   "metadata": {},
   "source": [
    "Varianza"
   ]
  },
  {
   "cell_type": "code",
   "execution_count": 50,
   "metadata": {},
   "outputs": [
    {
     "data": {
      "text/plain": [
       "14089267.041887974"
      ]
     },
     "execution_count": 50,
     "metadata": {},
     "output_type": "execute_result"
    }
   ],
   "source": [
    "serie_patentamientos.var()"
   ]
  },
  {
   "cell_type": "code",
   "execution_count": 54,
   "metadata": {},
   "outputs": [
    {
     "data": {
      "text/plain": [
       "14089267.041887973"
      ]
     },
     "execution_count": 54,
     "metadata": {},
     "output_type": "execute_result"
    }
   ],
   "source": [
    "serie_patentamientos.std() ** 2"
   ]
  },
  {
   "cell_type": "markdown",
   "metadata": {},
   "source": [
    "Desvío absoluto mediano"
   ]
  },
  {
   "cell_type": "code",
   "execution_count": 53,
   "metadata": {},
   "outputs": [
    {
     "data": {
      "text/plain": [
       "2066.9925427024737"
      ]
     },
     "execution_count": 53,
     "metadata": {},
     "output_type": "execute_result"
    }
   ],
   "source": [
    "serie_patentamientos.mad()"
   ]
  },
  {
   "cell_type": "code",
   "execution_count": null,
   "metadata": {},
   "outputs": [],
   "source": []
  },
  {
   "cell_type": "markdown",
   "metadata": {},
   "source": [
    "## Distribuciones probabilísticas "
   ]
  },
  {
   "cell_type": "code",
   "execution_count": 98,
   "metadata": {},
   "outputs": [
    {
     "data": {
      "text/plain": [
       "<matplotlib.axes._subplots.AxesSubplot at 0x7f5f0cd68650>"
      ]
     },
     "execution_count": 98,
     "metadata": {},
     "output_type": "execute_result"
    },
    {
     "data": {
      "image/png": "[encoded data removed]",
      "text/plain": [
       "<Figure size 432x288 with 1 Axes>"
      ]
     },
     "metadata": {
      "needs_background": "light"
     },
     "output_type": "display_data"
    }
   ],
   "source": [
    "normal_distribution = pd.Series(np.random.normal(0, 1, 10000))\n",
    "normal_distribution.hist(bins=20)"
   ]
  },
  {
   "cell_type": "code",
   "execution_count": 71,
   "metadata": {},
   "outputs": [
    {
     "data": {
      "text/plain": [
       "-0.00021945765983779272"
      ]
     },
     "execution_count": 71,
     "metadata": {},
     "output_type": "execute_result"
    }
   ],
   "source": [
    "normal_distribution.mean()"
   ]
  },
  {
   "cell_type": "code",
   "execution_count": 72,
   "metadata": {},
   "outputs": [
    {
     "data": {
      "text/plain": [
       "-0.0012698154652774026"
      ]
     },
     "execution_count": 72,
     "metadata": {},
     "output_type": "execute_result"
    }
   ],
   "source": [
    "normal_distribution.median()"
   ]
  },
  {
   "cell_type": "code",
   "execution_count": 73,
   "metadata": {},
   "outputs": [
    {
     "data": {
      "text/plain": [
       "0.20005014639235538"
      ]
     },
     "execution_count": 73,
     "metadata": {},
     "output_type": "execute_result"
    }
   ],
   "source": [
    "normal_distribution.std()"
   ]
  },
  {
   "cell_type": "code",
   "execution_count": 78,
   "metadata": {},
   "outputs": [
    {
     "data": {
      "text/plain": [
       "<matplotlib.axes._subplots.AxesSubplot at 0x7f5f12bccad0>"
      ]
     },
     "execution_count": 78,
     "metadata": {},
     "output_type": "execute_result"
    },
    {
     "data": {
      "image/png": "[encoded data removed]",
      "text/plain": [
       "<Figure size 432x288 with 1 Axes>"
      ]
     },
     "metadata": {
      "needs_background": "light"
     },
     "output_type": "display_data"
    }
   ],
   "source": [
    "uniform_distribution = pd.Series(np.random.uniform(0, 1, 10000))\n",
    "uniform_distribution.hist(bins=20)"
   ]
  },
  {
   "cell_type": "code",
   "execution_count": 79,
   "metadata": {},
   "outputs": [
    {
     "data": {
      "text/plain": [
       "0.502188972405856"
      ]
     },
     "execution_count": 79,
     "metadata": {},
     "output_type": "execute_result"
    }
   ],
   "source": [
    "uniform_distribution.mean()"
   ]
  },
  {
   "cell_type": "code",
   "execution_count": 80,
   "metadata": {},
   "outputs": [
    {
     "data": {
      "text/plain": [
       "0.4993156238493638"
      ]
     },
     "execution_count": 80,
     "metadata": {},
     "output_type": "execute_result"
    }
   ],
   "source": [
    "uniform_distribution.median()"
   ]
  },
  {
   "cell_type": "code",
   "execution_count": 81,
   "metadata": {},
   "outputs": [
    {
     "data": {
      "text/plain": [
       "0.29107411361102425"
      ]
     },
     "execution_count": 81,
     "metadata": {},
     "output_type": "execute_result"
    }
   ],
   "source": [
    "uniform_distribution.std()"
   ]
  },
  {
   "cell_type": "code",
   "execution_count": 99,
   "metadata": {},
   "outputs": [
    {
     "data": {
      "text/plain": [
       "<matplotlib.axes._subplots.AxesSubplot at 0x7f5f0cc9f650>"
      ]
     },
     "execution_count": 99,
     "metadata": {},
     "output_type": "execute_result"
    },
    {
     "data": {
      "image/png": "[encoded data removed]",
      "text/plain": [
       "<Figure size 432x288 with 1 Axes>"
      ]
     },
     "metadata": {
      "needs_background": "light"
     },
     "output_type": "display_data"
    }
   ],
   "source": [
    "uniform_distribution = pd.Series(np.random.lognormal(0, 1, 10000))\n",
    "uniform_distribution.hist(bins=100)"
   ]
  },
  {
   "cell_type": "markdown",
   "metadata": {},
   "source": [
    "**Ejercicio:** graficar las tres distribuciones con su media y su mediana."
   ]
  },
  {
   "cell_type": "code",
   "execution_count": null,
   "metadata": {},
   "outputs": [],
   "source": []
  },
  {
   "cell_type": "markdown",
   "metadata": {},
   "source": [
    "## Quantiles "
   ]
  },
  {
   "cell_type": "code",
   "execution_count": 106,
   "metadata": {},
   "outputs": [
    {
     "data": {
      "text/plain": [
       "(736.0, 736.0)"
      ]
     },
     "execution_count": 106,
     "metadata": {},
     "output_type": "execute_result"
    }
   ],
   "source": [
    "serie_patentamientos.quantile(0.5), serie_patentamientos.median()"
   ]
  },
  {
   "cell_type": "code",
   "execution_count": 104,
   "metadata": {},
   "outputs": [
    {
     "data": {
      "text/plain": [
       "352.0"
      ]
     },
     "execution_count": 104,
     "metadata": {},
     "output_type": "execute_result"
    }
   ],
   "source": [
    "serie_patentamientos.quantile(0.25)"
   ]
  },
  {
   "cell_type": "code",
   "execution_count": 105,
   "metadata": {},
   "outputs": [
    {
     "data": {
      "text/plain": [
       "1472.0"
      ]
     },
     "execution_count": 105,
     "metadata": {},
     "output_type": "execute_result"
    }
   ],
   "source": [
    "serie_patentamientos.quantile(0.75)"
   ]
  },
  {
   "cell_type": "markdown",
   "metadata": {},
   "source": [
    "**Ejercicio:** calcular valores maximo y minimo de la serie de patentamientos usando cuantiles y usando max() / min() y comparar el resultado."
   ]
  },
  {
   "cell_type": "code",
   "execution_count": null,
   "metadata": {},
   "outputs": [],
   "source": []
  },
  {
   "cell_type": "markdown",
   "metadata": {},
   "source": [
    "**Ejercicio:** graficar la distribución y la distribución logarítmica con sus medianas y quantiles 0.25 y 0.75"
   ]
  },
  {
   "cell_type": "code",
   "execution_count": null,
   "metadata": {},
   "outputs": [],
   "source": []
  },
  {
   "cell_type": "markdown",
   "metadata": {},
   "source": [
    "## Valores anómalos (outliers)"
   ]
  },
  {
   "cell_type": "markdown",
   "metadata": {},
   "source": [
    "Criterio 1: umbral de desvíos estándares."
   ]
  },
  {
   "cell_type": "code",
   "execution_count": 121,
   "metadata": {},
   "outputs": [
    {
     "data": {
      "text/plain": [
       "<matplotlib.axes._subplots.AxesSubplot at 0x7f5f17220250>"
      ]
     },
     "execution_count": 121,
     "metadata": {},
     "output_type": "execute_result"
    },
    {
     "data": {
      "image/png": "[encoded data removed]",
      "text/plain": [
       "<Figure size 432x288 with 1 Axes>"
      ]
     },
     "metadata": {
      "needs_background": "light"
     },
     "output_type": "display_data"
    }
   ],
   "source": [
    "serie_patentamientos_normal = df.groupby(\n",
    "    [\"anio_inscripcion_inicial\", \"mes_inscripcion_inicial\"]\n",
    ").sum()[\n",
    "    \"cantidad_inscripciones_iniciales\"]\n",
    "serie_patentamientos_normal.hist(bins=20)"
   ]
  },
  {
   "cell_type": "code",
   "execution_count": 122,
   "metadata": {},
   "outputs": [],
   "source": [
    "media = serie_patentamientos_normal.mean()\n",
    "desvio_estandar = serie_patentamientos_normal.std()\n",
    "\n",
    "umbral_superior = media + 3 * desvio_estandar\n",
    "umbral_inferior = media - 3 * desvio_estandar"
   ]
  },
  {
   "cell_type": "code",
   "execution_count": 124,
   "metadata": {},
   "outputs": [
    {
     "data": {
      "text/plain": [
       "<matplotlib.lines.Line2D at 0x7f5f0c220190>"
      ]
     },
     "execution_count": 124,
     "metadata": {},
     "output_type": "execute_result"
    },
    {
     "data": {
      "image/png": "[encoded data removed]",
      "text/plain": [
       "<Figure size 1080x360 with 1 Axes>"
      ]
     },
     "metadata": {
      "needs_background": "light"
     },
     "output_type": "display_data"
    }
   ],
   "source": [
    "ax = serie_patentamientos_normal.hist(bins=100, figsize=(15,5))\n",
    "\n",
    "ax.axvline(media, color='orange', linestyle='dashed', linewidth=5)\n",
    "ax.axvline(umbral_inferior, color='red', linestyle='dashed', linewidth=5)\n",
    "ax.axvline(umbral_superior, color='red', linestyle='dashed', linewidth=5)"
   ]
  },
  {
   "cell_type": "code",
   "execution_count": 125,
   "metadata": {},
   "outputs": [
    {
     "data": {
      "text/plain": [
       "Series([], Name: cantidad_inscripciones_iniciales, dtype: int64)"
      ]
     },
     "execution_count": 125,
     "metadata": {},
     "output_type": "execute_result"
    }
   ],
   "source": [
    "serie_patentamientos_normal[serie_patentamientos_normal < umbral_inferior]"
   ]
  },
  {
   "cell_type": "code",
   "execution_count": 128,
   "metadata": {},
   "outputs": [
    {
     "data": {
      "text/plain": [
       "anio_inscripcion_inicial  mes_inscripcion_inicial\n",
       "2018                      1                          120788\n",
       "Name: cantidad_inscripciones_iniciales, dtype: int64"
      ]
     },
     "execution_count": 128,
     "metadata": {},
     "output_type": "execute_result"
    }
   ],
   "source": [
    "serie_patentamientos_normal[serie_patentamientos_normal > umbral_superior]"
   ]
  },
  {
   "cell_type": "code",
   "execution_count": 130,
   "metadata": {},
   "outputs": [
    {
     "data": {
      "text/plain": [
       "<matplotlib.axes._subplots.AxesSubplot at 0x7f5f0bf2ae50>"
      ]
     },
     "execution_count": 130,
     "metadata": {},
     "output_type": "execute_result"
    },
    {
     "data": {
      "image/png": "[encoded data removed]",
      "text/plain": [
       "<Figure size 432x288 with 1 Axes>"
      ]
     },
     "metadata": {
      "needs_background": "light"
     },
     "output_type": "display_data"
    }
   ],
   "source": [
    "serie_patentamientos.hist(bins=20)"
   ]
  },
  {
   "cell_type": "code",
   "execution_count": 131,
   "metadata": {},
   "outputs": [],
   "source": [
    "media = serie_patentamientos.mean()\n",
    "desvio_estandar = serie_patentamientos.std()\n",
    "\n",
    "umbral_superior = media + 3 * desvio_estandar\n",
    "umbral_inferior = media - 3 * desvio_estandar"
   ]
  },
  {
   "cell_type": "code",
   "execution_count": 132,
   "metadata": {},
   "outputs": [
    {
     "data": {
      "text/plain": [
       "<matplotlib.lines.Line2D at 0x7f5f0bd22350>"
      ]
     },
     "execution_count": 132,
     "metadata": {},
     "output_type": "execute_result"
    },
    {
     "data": {
      "image/png": "[encoded data removed]",
      "text/plain": [
       "<Figure size 1080x360 with 1 Axes>"
      ]
     },
     "metadata": {
      "needs_background": "light"
     },
     "output_type": "display_data"
    }
   ],
   "source": [
    "ax = serie_patentamientos.hist(bins=100, figsize=(15,5))\n",
    "\n",
    "ax.axvline(media, color='orange', linestyle='dashed', linewidth=5)\n",
    "ax.axvline(umbral_inferior, color='red', linestyle='dashed', linewidth=5)\n",
    "ax.axvline(umbral_superior, color='red', linestyle='dashed', linewidth=5)"
   ]
  },
  {
   "cell_type": "code",
   "execution_count": 133,
   "metadata": {},
   "outputs": [
    {
     "data": {
      "text/plain": [
       "Series([], Name: cantidad_inscripciones_iniciales, dtype: int64)"
      ]
     },
     "execution_count": 133,
     "metadata": {},
     "output_type": "execute_result"
    }
   ],
   "source": [
    "serie_patentamientos[serie_patentamientos < umbral_inferior]"
   ]
  },
  {
   "cell_type": "code",
   "execution_count": 134,
   "metadata": {},
   "outputs": [
    {
     "data": {
      "text/plain": [
       "anio_inscripcion_inicial  mes_inscripcion_inicial  provincia_id\n",
       "2000                      1                        6               16346\n",
       "2005                      1                        6               15286\n",
       "2006                      1                        6               18792\n",
       "2007                      1                        2               15030\n",
       "                                                   6               24854\n",
       "                                                                   ...  \n",
       "2018                      8                        6               19488\n",
       "                          9                        6               15392\n",
       "                          10                       6               14103\n",
       "2019                      1                        6               18450\n",
       "                          7                        6               14799\n",
       "Name: cantidad_inscripciones_iniciales, Length: 149, dtype: int64"
      ]
     },
     "execution_count": 134,
     "metadata": {},
     "output_type": "execute_result"
    }
   ],
   "source": [
    "serie_patentamientos[serie_patentamientos > umbral_superior]"
   ]
  },
  {
   "cell_type": "code",
   "execution_count": 135,
   "metadata": {},
   "outputs": [
    {
     "data": {
      "text/plain": [
       "5808"
      ]
     },
     "execution_count": 135,
     "metadata": {},
     "output_type": "execute_result"
    }
   ],
   "source": [
    "len(serie_patentamientos)"
   ]
  },
  {
   "cell_type": "markdown",
   "metadata": {},
   "source": [
    "## Práctica"
   ]
  },
  {
   "cell_type": "markdown",
   "metadata": {},
   "source": []
  },
  {
   "cell_type": "code",
   "execution_count": null,
   "metadata": {},
   "outputs": [],
   "source": []
  }
 ],
 "metadata": {
  "kernelspec": {
   "display_name": "Python 3",
   "language": "python",
   "name": "python3"
  },
  "language_info": {
   "codemirror_mode": {
    "name": "ipython",
    "version": 3
   },
   "file_extension": ".py",
   "mimetype": "text/x-python",
   "name": "python",
   "nbconvert_exporter": "python",
   "pygments_lexer": "ipython3",
   "version": "3.7.4"
  }
 },
 "nbformat": 4,
 "nbformat_minor": 2
}
