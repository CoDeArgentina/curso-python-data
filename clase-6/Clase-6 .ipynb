{
 "cells": [
  {
   "cell_type": "markdown",
   "metadata": {},
   "source": [
    "# API de Transporte Público Ciudad de Buenos Aires"
   ]
  },
  {
   "cell_type": "markdown",
   "metadata": {},
   "source": [
    "#### Objetivos\n",
    "El objetivo general de esta clase es el de integrar alguno de los conocimientos adquiridos en el transcurso del curso: la obtención de datos desde diversas fuentes, la limpieza y preprocesamiento del dataset(data wrangling) y el posterior análisis y visualización de los datos. \n",
    "\n",
    "Particularmente vamos a estar trabajando con datos de la API de transporte público del Gobierno de la Ciudad de Buenos Aires. A través de esta herramienta lograremos monitorear el estado del transporte público (especificamente colectivos, específicamente la Linea 12) en tiempo real, identificar y visualizar los colectivos que se encuentran circulando dentro del territorio de la Ciudad de Buenos Aires. \n",
    "\n",
    "##### ¿Por qué es útil esto? \n",
    "A través de la API de transporte público de Buenos Aires se pueden desarrollar innumerables aplicaciones y entrenar modelos. Por ejemplo: podemos predecir la llegada de internos a una parada en particular, podemos pensar cómo optimizar el sistema de transporte de modo de disminuir la frecuencia del servicio, podemos estimar el estado de la congestión del tránsito en determinados puntos de la Ciudad, conocer paradas de colectivos \"no oficiales\", entre otras muchas cosas."
   ]
  },
  {
   "cell_type": "markdown",
   "metadata": {},
   "source": [
    "#### ¿Qué es una API (*application programming interface*)?\n",
    "Una API es un conjunto de funciones predefinidas que se utilizan para el desarrollo de aplicaciones, ofrecidas por una biblioteca para ser utilizadas por otro software. Uno de sus principales propósitos consiste en proporcionar funciones de uso general de forma que los desarrolladores hagan uso de las mismas para evitar escribir código desde cero.\n",
    "\n",
    "#### La API de Transporte Público de Buenos Aires\n",
    "Tiene por objetivo proveer los datos abiertos del transporte público de la Ciudad en formato estandarizado y en **tiempo real**.\n",
    "\n",
    "Algunos de los conjuntos de datos centrales multimodales incluidos y disponibles para los desarrolladores son:\n",
    "\n",
    "> - Planificación del viaje (actual y futuro)\n",
    "> - Estado (actual y futuro)\n",
    "> - Interrupciones (actuales) y trabajos planificados (futuro)\n",
    "> - Predicciones de llegada / salida (instantánea y websockets)\n",
    "> - Horarios\n",
    "> - Puntos de embarque e instalaciones\n",
    "> - Rutas y líneas (topología y geográfica)\n",
    "\n",
    "#### Cómo conseguir permiso para utilizar la API de Transporte Público de Buenos Aires\n",
    "\n",
    "Es muy sencillo. En primer lugar, cabe aclarar que la API es un servicio NO arancelado. No hay que pagar nada para utilizarla. Podríamos decir que se trata de un conjunto de datos abiertos, pero no es del todo así, ya que su utilización requiere de crear un usuario, hacer un registro y obtener una autorización para su uso (el argumento por detrás de esto es el de garantizar el funcionamiento del servicio ante picos de demanda). \n",
    "\n",
    "Para obtener nuestro USER y PASS para acceder al servicio hace falta ingresar en https://www.buenosaires.gob.ar/form/formulario-de-registro-api-transporte y completar los campos con nuestros datos, para luego recibir vía correo nuestras credenciales (client_id y client_secret). \n",
    "\n",
    "\n"
   ]
  },
  {
   "cell_type": "markdown",
   "metadata": {},
   "source": [
    "## COMIENZO DEL SCRIPT"
   ]
  },
  {
   "cell_type": "markdown",
   "metadata": {},
   "source": [
    "### Paso 1: Importar las Bibliotecas necesarias\n"
   ]
  },
  {
   "cell_type": "code",
   "execution_count": null,
   "metadata": {},
   "outputs": [],
   "source": [
    "\n",
    "import pandas as pd\n",
    "import numpy as np\n",
    "\n",
    "# This module provides regular expression matching operations\n",
    "import re\n",
    "# To make HTTP requests\n",
    "import requests\n",
    "\n",
    "# To transform json objects into DataFrame\n",
    "from pandas.io.json import json_normalize\n",
    "\n",
    "# To transform STR objects into json\n",
    "import json\n",
    "\n",
    "# To parse str objects into date and time objects\n",
    "import datetime\n",
    "\n",
    "# import urllib.request   ----> Otra libreria para consultar http nativa de python\n",
    "\n",
    "# To get current time\n",
    "import time\n",
    "\n",
    "# To pause the loops\n",
    "from time import sleep\n",
    "\n",
    "# Make graphs\n",
    "# !pip install plotly\n",
    "import plotly.express as px\n"
   ]
  },
  {
   "cell_type": "markdown",
   "metadata": {},
   "source": [
    "### Construcción de la URL a consultar"
   ]
  },
  {
   "cell_type": "markdown",
   "metadata": {},
   "source": [
    "> **1-** Ingreso a *https://www.buenosaires.gob.ar/desarrollourbano/transporte/apitransporte/api-doc*\n",
    "\n",
    "> **2-** Selecciono la opción */colectivos/vehiclePositions*: Devuelve la posición de los vehículos monitoreados actualizada cada 30 segundos \n",
    "\n",
    "> **3-** Ingreso las credenciales \"client_id\" y \"client_secret\" y el parámetro \"agency_id\" (para seleccionar la línea de colectivos que me interesa)\n",
    "\n",
    "> **4-** Selecciono \"GET\" y copio la URL que se construye."
   ]
  },
  {
   "cell_type": "markdown",
   "metadata": {},
   "source": [
    "Creo un objeto llamado url de tipo STR con la url que copié en la documentación de la API.\n",
    "\n",
    "Notar que se construye concatenando la consulta que nos interesa **\"vehiclePositionsSimple\"** con el parámetro **\"agency_id\"** y las credenciales **\"client_id\"** y **\"client_secret\"**"
   ]
  },
  {
   "cell_type": "code",
   "execution_count": null,
   "metadata": {},
   "outputs": [],
   "source": [
    "url='https://apitransporte.buenosaires.gob.ar/colectivos/vehiclePositionsSimple?agency_id=6&client_id=a0119e3e5ebf4fb4a0cbdea04de12037&client_secret=19967Bb82e7e4C7bab2CA49e3d631C3E' "
   ]
  },
  {
   "cell_type": "markdown",
   "metadata": {},
   "source": [
    "### Alternativa para construir la url\n",
    "\n",
    "Seteo el parametro que me interesa y las credenciales de la API en objetos del tipo STR para luego completar las URL que se encuentra en otro objeto del tipo STR\n"
   ]
  },
  {
   "cell_type": "code",
   "execution_count": null,
   "metadata": {},
   "outputs": [],
   "source": [
    "# Option 2: Create a function\n",
    "def url_bus(id_agency, user, psw):\n",
    "    \n",
    "    url= 'https://apitransporte.buenosaires.gob.ar/colectivos/vehiclePositionsSimple?agency_id='+str(id_agency)+'&client_id='+str(user)+'&client_secret='+str(psw) \n",
    "    \n",
    "    return url    "
   ]
  },
  {
   "cell_type": "code",
   "execution_count": null,
   "metadata": {},
   "outputs": [],
   "source": [
    "# Option 3: Set parameters & credentials in objects\n",
    "\n",
    "agency_id= '6'\n",
    "\n",
    "client_id= 'a0119e3e5ebf4fb4a0cbdea04de12037'\n",
    "\n",
    "client_secret= '19967Bb82e7e4C7bab2CA49e3d631C3E'\n",
    "\n",
    "url_incompleta= 'https://apitransporte.buenosaires.gob.ar/colectivos/vehiclePositionsSimple?agency_id={}&client_id={}&client_secret={}' \n",
    "\n",
    "# Con '.format' agrego otros strings al string principal 'url' \n",
    "# agregando como parametros lo que quiero que aparezca entre los corchetes\n",
    "\n",
    "url_buses= url.format(agency_id,\n",
    "                      client_id,\n",
    "                      client_secret)"
   ]
  },
  {
   "cell_type": "markdown",
   "metadata": {},
   "source": [
    "## Loop para recolectar los datos de la API en un período de tiempo"
   ]
  },
  {
   "cell_type": "code",
   "execution_count": null,
   "metadata": {
    "scrolled": true
   },
   "outputs": [],
   "source": [
    "# Create an empty Data Frame\n",
    "agency_6=pd.DataFrame()\n",
    "\n",
    "# this pattern captures all text in {}\n",
    "pattern='({.*?})'\n",
    "\n",
    "# 60 sec * 10 min\n",
    "timeout = time.time() + 60*10\n",
    " \n",
    "while True:\n",
    "    \n",
    "    # API requests\n",
    "    response= requests.get(url)\n",
    "    \n",
    "    # Get text from API response\n",
    "    text_api= response.text\n",
    "    \n",
    "    # Capture text in {} from the API response\n",
    "    data_buses=re.findall(pattern, text_api.replace('\\n',''))\n",
    "   \n",
    "    # For loop to append data from all bus units to empty Data Frame\n",
    "    for i in range(len(data_buses)):\n",
    "        \n",
    "        # Convert to JSON (or dict) each row of the API response text \n",
    "        json_buses=json.loads(data_buses[i])\n",
    "        \n",
    "        # Convert to DataFrame and append to linea_12 DF \n",
    "        agency_6=agency_6.append(json_normalize(json_buses), ignore_index=True)\n",
    "       \n",
    "    print(agency_6)\n",
    "    \n",
    "    if time.time() > timeout:\n",
    "        \n",
    "        print('Fin del tiempo de ejecución')\n",
    "        \n",
    "        break\n",
    "        \n",
    "    ## Wait 30 seconds to get new data from the API               \n",
    "    sleep(30)\n",
    "    "
   ]
  },
  {
   "cell_type": "code",
   "execution_count": null,
   "metadata": {
    "scrolled": true
   },
   "outputs": [],
   "source": [
    "# Si se tiene guardado el CSV, no hace falta ejecutar la descarga sino directamente cargar el archivo con esta línea\n",
    "agency_6=pd.read_csv('agency_6.csv')"
   ]
  },
  {
   "cell_type": "markdown",
   "metadata": {},
   "source": [
    "## Los datos recolectados de la API estan en agency_6"
   ]
  },
  {
   "cell_type": "code",
   "execution_count": null,
   "metadata": {},
   "outputs": [],
   "source": [
    "agency_6.info()"
   ]
  },
  {
   "cell_type": "code",
   "execution_count": null,
   "metadata": {},
   "outputs": [],
   "source": [
    "agency_6['route_id']"
   ]
  },
  {
   "cell_type": "markdown",
   "metadata": {},
   "source": [
    "### Análisis del Dataframe construido obteniendo datos de la API"
   ]
  },
  {
   "cell_type": "markdown",
   "metadata": {},
   "source": [
    "#### Metadatos"
   ]
  },
  {
   "cell_type": "markdown",
   "metadata": {},
   "source": [
    ">- **'agency_id'**: Número de referencia de la empresa que gestiona las líneas de colectivos\n",
    "\n",
    ">- **'agency_name'**: Nombre de la empresa que gestiona la línea\n",
    "\n",
    ">- **'direction'** : Dirección a la que se dirige (Dummy)\n",
    "\n",
    ">- **'id'**: Id del interno de la línea\n",
    "\n",
    ">- **'latitude'**: Latitud de la ubicación del colectivo\n",
    "\n",
    ">- **'longitude'**: Longitud de la ubicación del colectivo en coordenadas \n",
    "\n",
    ">- **'route_id'**: Identificación de la línea perteneciente a la empresa\n",
    "\n",
    ">- **'route_short_name'**: Nombre de la línea perteneciente a la empresa\n",
    "\n",
    ">- **'speed'**: Velocidad\n",
    "\n",
    ">- **'timestamp'**: Hora de la consulta (en S)\n",
    "\n",
    ">- **'trip_headsign'**: Destino anunciado del viaje"
   ]
  },
  {
   "cell_type": "code",
   "execution_count": null,
   "metadata": {},
   "outputs": [],
   "source": [
    "# Parseo la columna timestamp\n",
    "agency_6['timestamp']=pd.Series([pd.Timestamp(t, unit='s') for t in agency_6['timestamp']])"
   ]
  },
  {
   "cell_type": "code",
   "execution_count": null,
   "metadata": {},
   "outputs": [],
   "source": [
    "# Filtro los datos de la linea 12\n",
    "linea_12=agency_6[agency_6['route_id']=='63']"
   ]
  },
  {
   "cell_type": "code",
   "execution_count": null,
   "metadata": {
    "scrolled": true
   },
   "outputs": [],
   "source": [
    "linea_12=linea_12.reset_index(drop=True)\n",
    "# cuento la cantidad de registros de cada uno de los internos de los cuales obtuve información mediante la API.\n",
    "# Algunos internos van a mostrar pocos registros. Son aquellos que inician su recorrido poco antes de que nuestro código termine de hacer consultas.\n",
    "linea_12['id'].value_counts()"
   ]
  },
  {
   "cell_type": "markdown",
   "metadata": {},
   "source": [
    "#### Cantidad de internos circulando"
   ]
  },
  {
   "cell_type": "code",
   "execution_count": null,
   "metadata": {},
   "outputs": [],
   "source": [
    "print('La cantidad de internos circulano en un período de 30 min es ', str(len(linea_12['id'].unique())))"
   ]
  },
  {
   "cell_type": "markdown",
   "metadata": {},
   "source": [
    "#### Cantidad de registros de cada interno"
   ]
  },
  {
   "cell_type": "code",
   "execution_count": null,
   "metadata": {
    "scrolled": true
   },
   "outputs": [],
   "source": [
    "internos_registro=pd.DataFrame(linea_12['id'].value_counts()).reset_index()"
   ]
  },
  {
   "cell_type": "code",
   "execution_count": null,
   "metadata": {
    "scrolled": true
   },
   "outputs": [],
   "source": [
    "internos_registro.columns=['interno','cantidad_registros']\n",
    "internos_registro"
   ]
  },
  {
   "cell_type": "code",
   "execution_count": null,
   "metadata": {},
   "outputs": [],
   "source": [
    "# Alternativa\n",
    "# linea_12.groupby('id').count().loc[:,'agency_id']"
   ]
  },
  {
   "cell_type": "markdown",
   "metadata": {},
   "source": [
    "#### Reviso si en 30 minutos hay registros de internos que hacen viajes de ida y de vuelta"
   ]
  },
  {
   "cell_type": "markdown",
   "metadata": {},
   "source": [
    "Calculo el promedio de la columna \"Direction\" que contiene valores 1 y 0, agrupando por el ID del interno. El resultado asociado a cada uno de los internos será la proporcion de marcas GPS, registros o respuestas de la API en dirección \"1\". \n",
    "\n",
    "Si un interno tiene asociado un promedio \"0\", todas las respuestas de la API de ese interno tienen dirección \"0\"\n",
    "Si un interno tiene asociado un promedio \"1\", todas las respuestas de la API de ese interno tienen dirección \"1\"\n",
    "Si un interno tiene asociado un promedio entre 0 y 1, los registros de la posicion de ese interno corresponden a ambas direcciónes, \"0\" y \"1\"."
   ]
  },
  {
   "cell_type": "code",
   "execution_count": null,
   "metadata": {
    "scrolled": true
   },
   "outputs": [],
   "source": [
    "pd.DataFrame(linea_12.groupby('id').mean()['direction'].sort_values())"
   ]
  },
  {
   "cell_type": "markdown",
   "metadata": {},
   "source": [
    "#### Calculo la velocidad promedio de los internos cuando no estan detenidos y las velocidades máximas. "
   ]
  },
  {
   "cell_type": "code",
   "execution_count": null,
   "metadata": {},
   "outputs": [],
   "source": [
    "print('La velocidad promedio de los internos cuando no estan detenidos es ',str(round(linea_12['speed'][linea_12['speed']!=0].mean(), 2)))"
   ]
  },
  {
   "cell_type": "code",
   "execution_count": null,
   "metadata": {},
   "outputs": [],
   "source": [
    "print('La velocidad máxima alcanzada por un interno es,',str(round(linea_12['speed'].max(),2)))"
   ]
  },
  {
   "cell_type": "code",
   "execution_count": null,
   "metadata": {},
   "outputs": [],
   "source": [
    "## bonus encontrar clusters en los que se encuentren mas puntos para identificar paradas/semaforos. "
   ]
  },
  {
   "cell_type": "markdown",
   "metadata": {},
   "source": [
    "## Visualizacion de de la Línea 12"
   ]
  },
  {
   "cell_type": "code",
   "execution_count": null,
   "metadata": {
    "scrolled": true
   },
   "outputs": [],
   "source": [
    "linea_12"
   ]
  },
  {
   "cell_type": "markdown",
   "metadata": {},
   "source": [
    "#### Todos los puntos de posición conectado por líneas"
   ]
  },
  {
   "cell_type": "code",
   "execution_count": null,
   "metadata": {},
   "outputs": [],
   "source": [
    "fig = px.line_mapbox(linea_12, lat=\"latitude\", lon=\"longitude\", color=\"id\", zoom=3, height=300)\n",
    "\n",
    "fig.update_layout(mapbox_style=\"carto-positron\", mapbox_zoom=11, mapbox_center_lat = -34.6,\n",
    "    margin={\"r\":1,\"t\":0,\"l\":0,\"b\":0})\n",
    "\n",
    "fig.show()"
   ]
  },
  {
   "cell_type": "markdown",
   "metadata": {},
   "source": [
    "#### Todos los puntos de posición de los colectivos pintados según la velocidad a la que transitaban\n"
   ]
  },
  {
   "cell_type": "code",
   "execution_count": null,
   "metadata": {
    "scrolled": true
   },
   "outputs": [],
   "source": [
    "\n",
    "fig = px.scatter_mapbox(linea_12, lat=\"latitude\", lon=\"longitude\", color=\"speed\", zoom=3, height=300)\n",
    "\n",
    "fig.update_layout(mapbox_style=\"carto-positron\", mapbox_zoom=11, mapbox_center_lat = -34.6,\n",
    "    margin={\"r\":1,\"t\":0,\"l\":0,\"b\":0})\n",
    "\n",
    "fig.show()\n"
   ]
  },
  {
   "cell_type": "markdown",
   "metadata": {},
   "source": [
    "#### Selecciono las velocidades = 0 para detectar paradas"
   ]
  },
  {
   "cell_type": "code",
   "execution_count": null,
   "metadata": {},
   "outputs": [],
   "source": [
    "linea_12_0=linea_12[linea_12['speed']==0]"
   ]
  },
  {
   "cell_type": "code",
   "execution_count": null,
   "metadata": {},
   "outputs": [],
   "source": [
    "\n",
    "fig = px.scatter_mapbox(linea_12_0, lat=\"latitude\", lon=\"longitude\", color=\"speed\", zoom=3, height=300)\n",
    "\n",
    "fig.update_layout(mapbox_style=\"carto-positron\", mapbox_zoom=11, mapbox_center_lat = -34.6,\n",
    "    margin={\"r\":1,\"t\":0,\"l\":0,\"b\":0})\n",
    "\n",
    "fig.show()"
   ]
  }
 ],
 "metadata": {
  "kernelspec": {
   "display_name": "Python 3",
   "language": "python",
   "name": "python3"
  },
  "language_info": {
   "codemirror_mode": {
    "name": "ipython",
    "version": 3
   },
   "file_extension": ".py",
   "mimetype": "text/x-python",
   "name": "python",
   "nbconvert_exporter": "python",
   "pygments_lexer": "ipython3",
   "version": "3.7.4"
  }
 },
 "nbformat": 4,
 "nbformat_minor": 2
}
