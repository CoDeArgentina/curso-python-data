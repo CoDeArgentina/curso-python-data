{
 "cells": [
  {
   "cell_type": "markdown",
   "metadata": {},
   "source": [
    "# API de Transporte Público Ciudad de Buenos Aires\n",
    "## Práctica"
   ]
  },
  {
   "cell_type": "markdown",
   "metadata": {},
   "source": [
    "#### Objetivos\n",
    "\n",
    "El objetivo de este ejercicio es poner en práctica los recursos con los que se trabajó en la clase de la API de trasporte público. El mismo consiste en descargar información de distintos recursos de la API (Monopatines, Bicicletas, Colectivos), limpiar los datos, extraer algunas estadísticas y visualizar la información. "
   ]
  },
  {
   "cell_type": "markdown",
   "metadata": {},
   "source": [
    "### Ejercicio 1: Monopatines\n",
    "Los monopatines son vehiculos de propiedad de tres empresas que operan en la Ciudad de Buenos Aires. Se encuentran ubicados en distintos puntos de la Ciudad y respetan una zona de uso asignada a cada una de las empresas. \n",
    "La API de transporte recopila información de monopatines en tiempo real: su ubicación y su disponibilidad."
   ]
  },
  {
   "cell_type": "markdown",
   "metadata": {},
   "source": [
    "#### Actividad 1: \n",
    "Construir la URL de consulta del servicio de monopatines (https://www.buenosaires.gob.ar/desarrollourbano/transporte/apitransporte/api-doc), consultar y almacenar información en un lapso de 1 minuto."
   ]
  },
  {
   "cell_type": "code",
   "execution_count": null,
   "metadata": {},
   "outputs": [],
   "source": []
  },
  {
   "cell_type": "markdown",
   "metadata": {},
   "source": [
    "#### Actividad 2:\n",
    "Limpiar el dataset de forma adecuada para:  \n",
    "\n",
    "**A-** Responder a la siguiente pregunta ¿Cuál es la proporción de monopatines disponibles para su uso en cada una de las empresas?\n",
    "\n",
    "**B**- Visualizar en un mapa la ubicación de los monopatines para los cuales obtuvimos información, diferenciando a los puntos con colores de acuerdo a la empresa propietaria del vehículo.  "
   ]
  },
  {
   "cell_type": "code",
   "execution_count": null,
   "metadata": {},
   "outputs": [],
   "source": []
  },
  {
   "cell_type": "markdown",
   "metadata": {},
   "source": [
    "### Ejercicio 2: ECOBICI\n",
    "Ecobici es el servicio de bicicletas públicas de la Ciudad de Buenos Aires. Se encuentran ubicadas en estaciones distribuidas en gran parte del territorio de la Ciudad, su uso es gratuito y permite un máximo de uso de 30 minutos. \n",
    "Cada estación cuenta con un promedio de 10 estacionamientos para bicicletas, algunos ocupados con bicicletas disponibles para su uso y otros libres, que permiten anclar bicicletas a los usuarios que finalizaron su recorrido. \n"
   ]
  },
  {
   "cell_type": "markdown",
   "metadata": {},
   "source": [
    "#### Actividad 1: \n",
    "\n",
    "Construir la URL de consulta del servicio de monopatines (https://www.buenosaires.gob.ar/desarrollourbano/transporte/apitransporte/api-doc), consultar y almacenar información en un lapso de 1 minuto."
   ]
  },
  {
   "cell_type": "markdown",
   "metadata": {},
   "source": [
    "#### Actividad 2:\n",
    "Limpiar el dataset de forma adecuada para obtener: \n",
    "\n",
    "**A-** El promedio de bicicletas disponibles en el momento de la consulta.\n",
    "\n",
    "**B-** La estación de bicicletas con mas vehículos disponibles en el momento de la consulta. \n"
   ]
  },
  {
   "cell_type": "code",
   "execution_count": null,
   "metadata": {},
   "outputs": [],
   "source": []
  }
 ],
 "metadata": {
  "kernelspec": {
   "display_name": "Python 3",
   "language": "python",
   "name": "python3"
  },
  "language_info": {
   "codemirror_mode": {
    "name": "ipython",
    "version": 3
   },
   "file_extension": ".py",
   "mimetype": "text/x-python",
   "name": "python",
   "nbconvert_exporter": "python",
   "pygments_lexer": "ipython3",
   "version": "3.7.4"
  }
 },
 "nbformat": 4,
 "nbformat_minor": 2
}
